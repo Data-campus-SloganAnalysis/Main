{
 "cells": [
  {
   "cell_type": "code",
   "execution_count": 1,
   "id": "c58b3f79",
   "metadata": {
    "ExecuteTime": {
     "end_time": "2021-08-18T08:50:56.073065Z",
     "start_time": "2021-08-18T08:50:55.783648Z"
    }
   },
   "outputs": [],
   "source": [
    "from selenium import webdriver\n",
    "from bs4 import BeautifulSoup\n",
    "import re"
   ]
  },
  {
   "cell_type": "code",
   "execution_count": 3,
   "id": "29191a7d",
   "metadata": {
    "ExecuteTime": {
     "end_time": "2021-08-18T08:50:59.509995Z",
     "start_time": "2021-08-18T08:50:59.497286Z"
    }
   },
   "outputs": [],
   "source": [
    "sw = '지난 배포 금지 기업 회사 최근 위해 통해 기자 기사 일보 본문'\n",
    "driver = 'C:/chromedriver_win32/chromedriver.exe' "
   ]
  },
  {
   "cell_type": "markdown",
   "id": "f1a05eaa",
   "metadata": {},
   "source": [
    "불용어 추가  \n",
    "[Korean stopwords](https://www.ranks.nl/stopwords/korean)"
   ]
  },
  {
   "cell_type": "code",
   "execution_count": 4,
   "id": "43bc5a23",
   "metadata": {
    "ExecuteTime": {
     "end_time": "2021-08-18T08:51:07.877759Z",
     "start_time": "2021-08-18T08:51:00.317681Z"
    }
   },
   "outputs": [],
   "source": [
    "options = webdriver.ChromeOptions()\n",
    "\n",
    "options.add_argument(\"headless\")\n",
    "\n",
    "driver = webdriver.Chrome(executable_path=driver,options=options)  # for Windows\n",
    "driver.get('https://www.ranks.nl/stopwords/korean')\n",
    "\n",
    "req = driver.page_source\n",
    "soup = BeautifulSoup(req, 'html.parser')\n",
    "a = soup.select('#article178ebefbfb1b165454ec9f168f545239 > div.panel-body > table > tbody > tr')\n",
    "\n",
    "stopwords = []\n",
    "\n",
    "for x in a[0].select('td'):\n",
    "    stopword = re.sub('[^ ㄱ-ㅣ가-힣]+',' ',str(x))\n",
    "    stopwords.extend(' '.join(stopword.split()).split(' '))\n",
    "driver.close()\n",
    "\n",
    "stopwords.extend(sw.split())"
   ]
  },
  {
   "cell_type": "code",
   "execution_count": 6,
   "id": "b62ee054",
   "metadata": {
    "ExecuteTime": {
     "end_time": "2021-08-18T08:51:22.074915Z",
     "start_time": "2021-08-18T08:51:22.055776Z"
    }
   },
   "outputs": [],
   "source": [
    "file_path = './data/stopwords.txt'\n",
    "with open(file_path, 'w+') as op:\n",
    "    op.write(','.join(stopwords))"
   ]
  },
  {
   "cell_type": "code",
   "execution_count": 12,
   "id": "ab3db0b8",
   "metadata": {
    "ExecuteTime": {
     "end_time": "2021-08-18T08:50:40.817088Z",
     "start_time": "2021-08-18T08:50:40.799692Z"
    }
   },
   "outputs": [
    {
     "data": {
      "text/plain": [
       "801"
      ]
     },
     "execution_count": 12,
     "metadata": {},
     "output_type": "execute_result"
    }
   ],
   "source": [
    "file_path = './data/stopwords.txt'\n",
    "# with open(file_path,'r') as op:\n",
    "#     stopwords = op.readlines()\n",
    "#     stopwords = stopwords[0].split(',')"
   ]
  }
 ],
 "metadata": {
  "kernelspec": {
   "display_name": "Python 3",
   "language": "python",
   "name": "python3"
  },
  "language_info": {
   "codemirror_mode": {
    "name": "ipython",
    "version": 3
   },
   "file_extension": ".py",
   "mimetype": "text/x-python",
   "name": "python",
   "nbconvert_exporter": "python",
   "pygments_lexer": "ipython3",
   "version": "3.8.8"
  },
  "varInspector": {
   "cols": {
    "lenName": 16,
    "lenType": 16,
    "lenVar": 40
   },
   "kernels_config": {
    "python": {
     "delete_cmd_postfix": "",
     "delete_cmd_prefix": "del ",
     "library": "var_list.py",
     "varRefreshCmd": "print(var_dic_list())"
    },
    "r": {
     "delete_cmd_postfix": ") ",
     "delete_cmd_prefix": "rm(",
     "library": "var_list.r",
     "varRefreshCmd": "cat(var_dic_list()) "
    }
   },
   "types_to_exclude": [
    "module",
    "function",
    "builtin_function_or_method",
    "instance",
    "_Feature"
   ],
   "window_display": false
  }
 },
 "nbformat": 4,
 "nbformat_minor": 5
}
