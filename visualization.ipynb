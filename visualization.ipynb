{
 "cells": [
  {
   "cell_type": "code",
   "execution_count": 1,
   "id": "78612df5",
   "metadata": {
    "ExecuteTime": {
     "end_time": "2021-08-22T05:46:10.097259Z",
     "start_time": "2021-08-22T05:46:08.351748Z"
    }
   },
   "outputs": [],
   "source": [
    "import re\n",
    "\n",
    "from konlpy.tag import Okt,Mecab\n",
    "from sklearn.feature_extraction.text import CountVectorizer\n",
    "\n",
    "import pandas as pd\n",
    "\n",
    "from tqdm import tqdm\n",
    "import operator\n",
    "\n",
    "import networkx as nx\n",
    "import matplotlib.pyplot as plt"
   ]
  },
  {
   "cell_type": "markdown",
   "id": "ac5e4fc4",
   "metadata": {},
   "source": [
    "Data preprocessing"
   ]
  },
  {
   "cell_type": "code",
   "execution_count": 2,
   "id": "11cd7be5",
   "metadata": {
    "ExecuteTime": {
     "end_time": "2021-08-22T05:46:10.128420Z",
     "start_time": "2021-08-22T05:46:10.113942Z"
    }
   },
   "outputs": [],
   "source": [
    "def clean_text(text):\n",
    "    cleaned_text = re.sub('[^ ㄱ-ㅣ가-힣]+',' ',text) # 한국어, 스페이스바를 제외한 모든 문자 제거\n",
    "    cleaned_text = ' '.join(cleaned_text.split()) # 너무 많은 공백이 생기므로 공백 1개로\n",
    "    return cleaned_text\n",
    "\n",
    "def get_nouns(text):\n",
    "    okt = Okt() # 형태소 분석기\n",
    "    nouns = okt.nouns(text) # 명사 추출\n",
    "    nouns = [word for word in nouns if not (word in stopwords)] # 불용어 제거\n",
    "    nouns = [word for word in nouns if len(word)>1] # 길이가 1 이상만 추출\n",
    "    return nouns"
   ]
  },
  {
   "cell_type": "code",
   "execution_count": 3,
   "id": "322fa499",
   "metadata": {
    "ExecuteTime": {
     "end_time": "2021-08-22T05:46:10.159309Z",
     "start_time": "2021-08-22T05:46:10.144569Z"
    }
   },
   "outputs": [],
   "source": [
    "def clean_tokenizing(data):\n",
    "    data = data.dropna() # 결측값 제거\n",
    "    data['내용'] = data['내용'].apply(lambda x: clean_text(x)) # 한국어만 추출\n",
    "    data['명사'] = data['내용'].apply(lambda x: get_nouns(x)) # 명사만 추출\n",
    "    \n",
    "    drop_index_list = [] # 지워버릴 index를 담는 리스트\n",
    "    for i, row in data.iterrows():\n",
    "        temp_nouns = row['명사']\n",
    "        if len(temp_nouns) == 0: # 만약 명사리스트가 비어 있다면\n",
    "            drop_index_list.append(i) # 지울 index 추가\n",
    "    data = data.drop(drop_index_list) # 해당 index를 지우기\n",
    "    data.index = range(len(data))\n",
    "    return data"
   ]
  },
  {
   "cell_type": "code",
   "execution_count": 4,
   "id": "a473241d",
   "metadata": {
    "ExecuteTime": {
     "end_time": "2021-08-22T05:46:10.190605Z",
     "start_time": "2021-08-22T05:46:10.175893Z"
    }
   },
   "outputs": [],
   "source": [
    "def mk_tfidf(data):\n",
    "    cv = CountVectorizer(max_features=4000, tokenizer=get_nouns) # data의 tf-idf 구축, tokenizer로 get_nouns 사용\n",
    "    tdm = cv.fit_transform(data['내용']) # 위의 파라미터 수에 맞게 tdm 생성\n",
    "    dataset = pd.DataFrame(data=tdm.todense(),columns=cv.get_feature_names())\n",
    "    return dataset"
   ]
  },
  {
   "cell_type": "code",
   "execution_count": 5,
   "id": "5e34f3eb",
   "metadata": {
    "ExecuteTime": {
     "end_time": "2021-08-22T05:46:10.220543Z",
     "start_time": "2021-08-22T05:46:10.207662Z"
    }
   },
   "outputs": [],
   "source": [
    "def mk_input(tf_idf):\n",
    "    column_list = list(tf_idf.columns)\n",
    "    word_length = len(column_list)\n",
    "\n",
    "    # 각 단어쌍의 빈도수를 저장할 dictionary 생성\n",
    "    count_dict = {}\n",
    "\n",
    "    for doc_number in tqdm(range(len(tf_idf)), desc='단어쌍 만들기 진행중'):\n",
    "        tmp = tf_idf.loc[doc_number]           # 현재 문서의 단어 출현 빈도 데이터를 가져온다.\n",
    "        for i, word1 in enumerate(column_list):\n",
    "            if tmp[word1]:              # 현재 문서에 첫번째 단어가 존재할 경우\n",
    "                for j in range(i + 1, word_length):\n",
    "                    if tmp[column_list[j]]:              # 현재 문서에 두번째 단어가 존재할 경우\n",
    "                        count_dict[column_list[i], column_list[j]] = count_dict.get((column_list[i], column_list[j]), 0) + max(tmp[word1], tmp[column_list[j]])\n",
    "\n",
    "    # count_list에 word1, word2, frequency 형태로 저장할 것이다.\n",
    "    count_list = []\n",
    "\n",
    "    for words in count_dict:\n",
    "        count_list.append([words[0], words[1], count_dict[words]])\n",
    "\n",
    "    # 단어쌍 동시 출현 빈도를 DataFrame 형식으로 만든다.\n",
    "    df = pd.DataFrame(count_list, columns=[\"word1\", \"word2\", \"freq\"])\n",
    "    df = df.sort_values(by=['freq'], ascending=False)\n",
    "    df = df.reset_index(drop=True)\n",
    "    return df"
   ]
  },
  {
   "cell_type": "markdown",
   "id": "3b826ecb",
   "metadata": {},
   "source": [
    "감성사전에 따른 가중치 추가해야함"
   ]
  },
  {
   "cell_type": "code",
   "execution_count": 55,
   "id": "c5319ae8",
   "metadata": {
    "ExecuteTime": {
     "end_time": "2021-08-22T09:23:26.895135Z",
     "start_time": "2021-08-22T09:23:26.878745Z"
    }
   },
   "outputs": [],
   "source": [
    "def draw(df, keyword, length):\n",
    "    font_family='NanumSquareRound'\n",
    "    print(keyword, length)\n",
    "    dataset = df[df['word1']==keyword]\n",
    "\n",
    "    G_centrality = nx.Graph()\n",
    "\n",
    "    # 빈도수가 20000 이상인 단어쌍에 대해서만 edge(간선)을 표현한다.\n",
    "    for ind in list(dataset.index)[:length]:\n",
    "        G_centrality.add_edge(dataset['word1'][ind], dataset['word2'][ind], weight=int(dataset['freq'][ind]))\n",
    "\n",
    "    dgr = nx.degree_centrality(G_centrality)        # 연결 중심성\n",
    "    btw = nx.betweenness_centrality(G_centrality)   # 매개 중심성\n",
    "    cls = nx.closeness_centrality(G_centrality)     # 근접 중심성\n",
    "    egv = nx.eigenvector_centrality(G_centrality)   # 고유벡터 중심성\n",
    "    pgr = nx.pagerank(G_centrality)                 # 페이지 랭크\n",
    "\n",
    "    sorted_dgr = sorted(dgr.items(), key=operator.itemgetter(1), reverse=True)\n",
    "    sorted_btw = sorted(btw.items(), key=operator.itemgetter(1), reverse=True)\n",
    "    sorted_cls = sorted(cls.items(), key=operator.itemgetter(1), reverse=True)\n",
    "    sorted_egv = sorted(egv.items(), key=operator.itemgetter(1), reverse=True)\n",
    "    sorted_pgr = sorted(pgr.items(), key=operator.itemgetter(1), reverse=True)\n",
    "\n",
    "    G = nx.Graph()\n",
    "    \n",
    "    for i in range(len(sorted_pgr)): # 페이지 랭크에 따른 노드 추가\n",
    "        G.add_node(sorted_pgr[i][0], nodesize=sorted_dgr[i][1],color='r')\n",
    "\n",
    "    for ind in list(dataset.index)[:length]: # \n",
    "        G.add_weighted_edges_from([(dataset['word1'][ind], dataset['word2'][ind], int(dataset['freq'][ind]))])\n",
    "        \n",
    "    words = list(G.nodes)\n",
    "    sent_points = []\n",
    "    word_points = {}\n",
    "    for word in words:\n",
    "        try:\n",
    "            sent_point = float(sent[sent['단어'] == word]['points'].values)\n",
    "            word_points[word] = sent_point\n",
    "            sent_points.append(sent_point)\n",
    "        except:\n",
    "            word_points[word] = 0\n",
    "            sent_points.append(0) \n",
    "    \n",
    "    #colors = list(r)\n",
    "\n",
    "    # 노드 크기 조정\n",
    "    sizes = [G.nodes[node]['nodesize'] * 5000+1000 for node in G] \n",
    "\n",
    "    # 옵션\n",
    "    options = {\n",
    "        'edge_color': '#000000',\n",
    "        'width': 1,\n",
    "        'with_labels': True,\n",
    "        'font_weight': 'regular',\n",
    "        'cmap' : 'coolwarm',\n",
    "        'node_color' : sent_points,\n",
    "        'alpha' : 0.5\n",
    "    }\n",
    "\n",
    "\n",
    "    plt.figure(figsize=(8,5))\n",
    "    nx.draw(G, node_size=sizes,\n",
    "            pos=nx.spring_layout(G, k=3.5, iterations=100), **options, font_family=font_family)  # font_family로 폰트 등록\n",
    "    ax = plt.gca()\n",
    "    ax.collections[0].set_edgecolor(\"#555555\")\n",
    "    plt.show()\n",
    "    return word_points"
   ]
  },
  {
   "cell_type": "markdown",
   "id": "f28159d9",
   "metadata": {},
   "source": [
    "연관 출현 빈도 분석결과 저장시"
   ]
  },
  {
   "cell_type": "code",
   "execution_count": 23,
   "id": "fc1c0d43",
   "metadata": {
    "ExecuteTime": {
     "end_time": "2021-08-22T06:40:22.252642Z",
     "start_time": "2021-08-22T06:25:26.092587Z"
    }
   },
   "outputs": [
    {
     "name": "stderr",
     "output_type": "stream",
     "text": [
      "단어쌍 만들기 진행중: 100%|████████████████████████████████████████████████████████| 1105/1105 [10:33<00:00,  1.74it/s]\n"
     ]
    }
   ],
   "source": [
    "file_path='C:/Users/hyunsoo/study/ds_project/crawler/박채희/crawler/환경오염.csv' # 파일 수정필요\n",
    "stopwords_path = './data/stopwords.txt'\n",
    "sent = pd.read_csv('./data/dict.csv',encoding='cp949')\n",
    "with open(stopwords_path,'r') as op:\n",
    "    stopwords = op.readlines()\n",
    "    stopwords = stopwords[0].split(',')\n",
    "\n",
    "data = pd.read_csv(file_path, encoding='cp949',index_col = 0)\n",
    "data = clean_tokenizing(data)\n",
    "tf_idf = mk_tfidf(data)\n",
    "words_freq = mk_input(tf_idf)\n",
    "words_freq.to_csv('data/words_freq.csv',encoding='cp949')"
   ]
  },
  {
   "cell_type": "code",
   "execution_count": 59,
   "id": "33c5a914",
   "metadata": {
    "ExecuteTime": {
     "end_time": "2021-08-22T09:27:19.686060Z",
     "start_time": "2021-08-22T09:27:18.482992Z"
    }
   },
   "outputs": [
    {
     "name": "stdout",
     "output_type": "stream",
     "text": [
      "코인 10\n"
     ]
    },
    {
     "data": {
      "image/png": "[encoded data removed]",
      "text/plain": [
       "<Figure size 576x360 with 1 Axes>"
      ]
     },
     "metadata": {},
     "output_type": "display_data"
    },
    {
     "name": "stdout",
     "output_type": "stream",
     "text": [
      "{'코인': -0.4003071999232327, '화폐': 0, '환경': 0.0234662641354019, '테슬라': 0.0034647694741412, '환경오염': -1.0, '트위터': 0, '행보': 0, '투자자': 0, '하락': 0, '해당': -0.0106338073469777, '탄소': -0.1393769576330001}\n"
     ]
    }
   ],
   "source": [
    "words_freq = pd.read_csv('./data/words_freq.csv',encoding='cp949')\n",
    "print(draw(words_freq,'코인',10))"
   ]
  },
  {
   "cell_type": "code",
   "execution_count": 47,
   "id": "efd92000",
   "metadata": {
    "ExecuteTime": {
     "end_time": "2021-08-22T09:19:59.763503Z",
     "start_time": "2021-08-22T09:19:59.616291Z"
    }
   },
   "outputs": [
    {
     "name": "stderr",
     "output_type": "stream",
     "text": [
      "C:\\python_anaconda3\\lib\\site-packages\\matplotlib\\backends\\backend_agg.py:238: RuntimeWarning: Glyph 8722 missing from current font.\n",
      "  font.set_text(s, 0.0, flags=flags)\n",
      "C:\\python_anaconda3\\lib\\site-packages\\matplotlib\\backends\\backend_agg.py:201: RuntimeWarning: Glyph 8722 missing from current font.\n",
      "  font.set_text(s, 0, flags=flags)\n"
     ]
    },
    {
     "data": {
      "image/png": "[encoded data removed]",
      "text/plain": [
       "<Figure size 432x288 with 1 Axes>"
      ]
     },
     "metadata": {
      "needs_background": "light"
     },
     "output_type": "display_data"
    }
   ],
   "source": [
    "import seaborn as sns\n",
    "\n",
    "sns.kdeplot(sent['points'])\n",
    "plt.title('min-max points')\n",
    "plt.show()"
   ]
  },
  {
   "cell_type": "code",
   "execution_count": 48,
   "id": "d51dd277",
   "metadata": {
    "ExecuteTime": {
     "end_time": "2021-08-22T09:20:02.885780Z",
     "start_time": "2021-08-22T09:20:02.748892Z"
    }
   },
   "outputs": [
    {
     "data": {
      "text/plain": [
       "<AxesSubplot:xlabel='회귀계수', ylabel='Density'>"
      ]
     },
     "execution_count": 48,
     "metadata": {},
     "output_type": "execute_result"
    },
    {
     "name": "stderr",
     "output_type": "stream",
     "text": [
      "C:\\python_anaconda3\\lib\\site-packages\\matplotlib\\backends\\backend_agg.py:238: RuntimeWarning: Glyph 8722 missing from current font.\n",
      "  font.set_text(s, 0.0, flags=flags)\n",
      "C:\\python_anaconda3\\lib\\site-packages\\matplotlib\\backends\\backend_agg.py:201: RuntimeWarning: Glyph 8722 missing from current font.\n",
      "  font.set_text(s, 0, flags=flags)\n"
     ]
    },
    {
     "data": {
      "image/png": "[encoded data removed]",
      "text/plain": [
       "<Figure size 432x288 with 1 Axes>"
      ]
     },
     "metadata": {
      "needs_background": "light"
     },
     "output_type": "display_data"
    }
   ],
   "source": [
    "sns.kdeplot(sent['회귀계수']/sent['회귀계수'].std())"
   ]
  },
  {
   "cell_type": "code",
   "execution_count": null,
   "id": "b36ba545",
   "metadata": {},
   "outputs": [],
   "source": []
  }
 ],
 "metadata": {
  "kernelspec": {
   "display_name": "Python 3",
   "language": "python",
   "name": "python3"
  },
  "language_info": {
   "codemirror_mode": {
    "name": "ipython",
    "version": 3
   },
   "file_extension": ".py",
   "mimetype": "text/x-python",
   "name": "python",
   "nbconvert_exporter": "python",
   "pygments_lexer": "ipython3",
   "version": "3.8.8"
  },
  "varInspector": {
   "cols": {
    "lenName": 16,
    "lenType": 16,
    "lenVar": 40
   },
   "kernels_config": {
    "python": {
     "delete_cmd_postfix": "",
     "delete_cmd_prefix": "del ",
     "library": "var_list.py",
     "varRefreshCmd": "print(var_dic_list())"
    },
    "r": {
     "delete_cmd_postfix": ") ",
     "delete_cmd_prefix": "rm(",
     "library": "var_list.r",
     "varRefreshCmd": "cat(var_dic_list()) "
    }
   },
   "types_to_exclude": [
    "module",
    "function",
    "builtin_function_or_method",
    "instance",
    "_Feature"
   ],
   "window_display": false
  }
 },
 "nbformat": 4,
 "nbformat_minor": 5
}
