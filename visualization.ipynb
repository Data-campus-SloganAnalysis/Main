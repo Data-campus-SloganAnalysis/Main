{
 "cells": [
  {
   "cell_type": "code",
   "execution_count": 1,
   "id": "78612df5",
   "metadata": {
    "ExecuteTime": {
     "end_time": "2021-08-18T08:52:59.071239Z",
     "start_time": "2021-08-18T08:52:53.441863Z"
    }
   },
   "outputs": [],
   "source": [
    "import re\n",
    "\n",
    "from konlpy.tag import Okt,Mecab\n",
    "from sklearn.feature_extraction.text import CountVectorizer\n",
    "\n",
    "import pandas as pd\n",
    "\n",
    "from tqdm import tqdm\n",
    "import operator\n",
    "\n",
    "import networkx as nx\n",
    "import matplotlib.pyplot as plt"
   ]
  },
  {
   "cell_type": "markdown",
   "id": "ac5e4fc4",
   "metadata": {},
   "source": [
    "Data path"
   ]
  },
  {
   "cell_type": "code",
   "execution_count": 15,
   "id": "11cd7be5",
   "metadata": {
    "ExecuteTime": {
     "end_time": "2021-08-18T09:07:25.460325Z",
     "start_time": "2021-08-18T09:07:25.435101Z"
    }
   },
   "outputs": [],
   "source": [
    "def clean_text(text):\n",
    "    cleaned_text = re.sub('[^ ㄱ-ㅣ가-힣]+',' ',text)\n",
    "    cleaned_text = ' '.join(cleaned_text.split())\n",
    "    return cleaned_text\n",
    "\n",
    "def get_nouns(text):\n",
    "    okt = Okt()\n",
    "    nouns = okt.nouns(text)\n",
    "    nouns = [word for word in nouns if not (word in stopwords)]\n",
    "    nouns = [word for word in nouns if len(word)>1]\n",
    "    return nouns"
   ]
  },
  {
   "cell_type": "code",
   "execution_count": 9,
   "id": "322fa499",
   "metadata": {
    "ExecuteTime": {
     "end_time": "2021-08-18T08:58:53.249499Z",
     "start_time": "2021-08-18T08:58:53.230450Z"
    }
   },
   "outputs": [],
   "source": [
    "def clean_tokenizing(data):\n",
    "    data = data.dropna()\n",
    "    data['내용'] = data['내용'].apply(lambda x: clean_text(x))\n",
    "    data['명사'] = data['내용'].apply(lambda x: get_nouns(x))\n",
    "    \n",
    "    drop_index_list = [] # 지워버릴 index를 담는 리스트\n",
    "    for i, row in data.iterrows():\n",
    "        temp_nouns = row['명사']\n",
    "        if len(temp_nouns) == 0: # 만약 명사리스트가 비어 있다면\n",
    "            drop_index_list.append(i) # 지울 index 추가\n",
    "    data = data.drop(drop_index_list) # 해당 index를 지우기\n",
    "    data.index = range(len(data))\n",
    "    return data"
   ]
  },
  {
   "cell_type": "code",
   "execution_count": 6,
   "id": "a473241d",
   "metadata": {
    "ExecuteTime": {
     "end_time": "2021-08-18T08:56:04.592127Z",
     "start_time": "2021-08-18T08:56:04.581862Z"
    }
   },
   "outputs": [],
   "source": [
    "def mk_tfidf(data):\n",
    "    cv = CountVectorizer(max_features=1000, tokenizer=get_nouns)\n",
    "    tdm = cv.fit_transform(data['내용'])\n",
    "    dataset = pd.DataFrame(data=tdm.todense(),columns=cv.get_feature_names())\n",
    "    return dataset"
   ]
  },
  {
   "cell_type": "code",
   "execution_count": 7,
   "id": "5e34f3eb",
   "metadata": {
    "ExecuteTime": {
     "end_time": "2021-08-18T08:56:17.835664Z",
     "start_time": "2021-08-18T08:56:17.797320Z"
    }
   },
   "outputs": [],
   "source": [
    "def mk_input(tf_idf):\n",
    "    column_list = list(tf_idf.columns)\n",
    "    word_length = len(column_list)\n",
    "\n",
    "    # 각 단어쌍의 빈도수를 저장할 dictionary 생성\n",
    "    count_dict = {}\n",
    "\n",
    "    for doc_number in tqdm(range(len(tf_idf)), desc='단어쌍 만들기 진행중'):\n",
    "        tmp = tf_idf.loc[doc_number]           # 현재 문서의 단어 출현 빈도 데이터를 가져온다.\n",
    "        for i, word1 in enumerate(column_list):\n",
    "            if tmp[word1]:              # 현재 문서에 첫번째 단어가 존재할 경우\n",
    "                for j in range(i + 1, word_length):\n",
    "                    if tmp[column_list[j]]:              # 현재 문서에 두번째 단어가 존재할 경우\n",
    "                        count_dict[column_list[i], column_list[j]] = count_dict.get((column_list[i], column_list[j]), 0) + max(tmp[word1], tmp[column_list[j]])\n",
    "\n",
    "    # count_list에 word1, word2, frequency 형태로 저장할 것이다.\n",
    "    count_list = []\n",
    "\n",
    "    for words in count_dict:\n",
    "        count_list.append([words[0], words[1], count_dict[words]])\n",
    "\n",
    "    # 단어쌍 동시 출현 빈도를 DataFrame 형식으로 만든다.\n",
    "    df = pd.DataFrame(count_list, columns=[\"word1\", \"word2\", \"freq\"])\n",
    "    df = df.sort_values(by=['freq'], ascending=False)\n",
    "    df = df.reset_index(drop=True)\n",
    "    return df"
   ]
  },
  {
   "cell_type": "markdown",
   "id": "3b826ecb",
   "metadata": {},
   "source": [
    "감성사전에 따른 가중치 추가해야함"
   ]
  },
  {
   "cell_type": "code",
   "execution_count": 8,
   "id": "c5319ae8",
   "metadata": {
    "ExecuteTime": {
     "end_time": "2021-08-18T08:56:29.898388Z",
     "start_time": "2021-08-18T08:56:29.862455Z"
    }
   },
   "outputs": [],
   "source": [
    "def draw(df, keyword, length):\n",
    "    font_family='NanumSquareRound'\n",
    "    print(keyword, length)\n",
    "    dataset = df[df['word1']==keyword]\n",
    "\n",
    "    G_centrality = nx.Graph()\n",
    "\n",
    "    # 빈도수가 20000 이상인 단어쌍에 대해서만 edge(간선)을 표현한다.\n",
    "    for ind in list(dataset.index)[:length]:\n",
    "        G_centrality.add_edge(dataset['word1'][ind], dataset['word2'][ind], weight=int(dataset['freq'][ind]))\n",
    "\n",
    "    dgr = nx.degree_centrality(G_centrality)        # 연결 중심성\n",
    "    btw = nx.betweenness_centrality(G_centrality)   # 매개 중심성\n",
    "    cls = nx.closeness_centrality(G_centrality)     # 근접 중심성\n",
    "    egv = nx.eigenvector_centrality(G_centrality)   # 고유벡터 중심성\n",
    "    pgr = nx.pagerank(G_centrality)                 # 페이지 랭크\n",
    "\n",
    "    sorted_dgr = sorted(dgr.items(), key=operator.itemgetter(1), reverse=True)\n",
    "    sorted_btw = sorted(btw.items(), key=operator.itemgetter(1), reverse=True)\n",
    "    sorted_cls = sorted(cls.items(), key=operator.itemgetter(1), reverse=True)\n",
    "    sorted_egv = sorted(egv.items(), key=operator.itemgetter(1), reverse=True)\n",
    "    sorted_pgr = sorted(pgr.items(), key=operator.itemgetter(1), reverse=True)\n",
    "\n",
    "    G = nx.Graph()\n",
    "\n",
    "    for i in range(len(sorted_pgr)):\n",
    "        G.add_node(sorted_pgr[i][0], nodesize=sorted_dgr[i][1],color='r')\n",
    "\n",
    "    for ind in list(dataset.index)[:length]:\n",
    "        G.add_weighted_edges_from([(dataset['word1'][ind], dataset['word2'][ind], int(dataset['freq'][ind]))])\n",
    "\n",
    "    # 노드 크기 조정\n",
    "    sizes = [G.nodes[node]['nodesize'] * 500+200 for node in G]\n",
    "\n",
    "    options = {\n",
    "        'edge_color': '#FFDEA2',\n",
    "        'width': 1,\n",
    "        'with_labels': True,\n",
    "        'font_weight': 'regular',\n",
    "    }\n",
    "\n",
    "\n",
    "    plt.figure(figsize=(8,5))\n",
    "    nx.draw(G, node_size=sizes, pos=nx.spring_layout(G, k=3.5, iterations=100), **options, font_family=font_family)  # font_family로 폰트 등록\n",
    "    ax = plt.gca()\n",
    "    ax.collections[0].set_edgecolor(\"#555555\")\n",
    "    plt.show()"
   ]
  },
  {
   "cell_type": "code",
   "execution_count": 16,
   "id": "fc1c0d43",
   "metadata": {
    "ExecuteTime": {
     "end_time": "2021-08-18T09:11:05.692605Z",
     "start_time": "2021-08-18T09:07:32.091275Z"
    }
   },
   "outputs": [
    {
     "name": "stderr",
     "output_type": "stream",
     "text": [
      "<ipython-input-9-48971c1f0be7>:3: SettingWithCopyWarning: \n",
      "A value is trying to be set on a copy of a slice from a DataFrame.\n",
      "Try using .loc[row_indexer,col_indexer] = value instead\n",
      "\n",
      "See the caveats in the documentation: https://pandas.pydata.org/pandas-docs/stable/user_guide/indexing.html#returning-a-view-versus-a-copy\n",
      "  data['내용'] = data['내용'].apply(lambda x: clean_text(x))\n",
      "<ipython-input-9-48971c1f0be7>:4: SettingWithCopyWarning: \n",
      "A value is trying to be set on a copy of a slice from a DataFrame.\n",
      "Try using .loc[row_indexer,col_indexer] = value instead\n",
      "\n",
      "See the caveats in the documentation: https://pandas.pydata.org/pandas-docs/stable/user_guide/indexing.html#returning-a-view-versus-a-copy\n",
      "  data['명사'] = data['내용'].apply(lambda x: get_nouns(x))\n",
      "단어쌍 만들기 진행중: 100%|██████████████████████████████████████████████████████████| 251/251 [02:00<00:00,  2.08it/s]\n"
     ]
    },
    {
     "name": "stdout",
     "output_type": "stream",
     "text": [
      "음식 20\n"
     ]
    },
    {
     "data": {
      "image/png": "[encoded data removed]",
      "text/plain": [
       "<Figure size 576x360 with 1 Axes>"
      ]
     },
     "metadata": {},
     "output_type": "display_data"
    }
   ],
   "source": [
    "file_path='C:/Users/hyunsoo/study/ds_project/crawler/박채희/crawler/풀무원 바른먹거리.csv'\n",
    "stopwords_path = './data/stopwords.txt'\n",
    "\n",
    "with open(stopwords_path,'r') as op:\n",
    "    stopwords = op.readlines()\n",
    "    stopwords = stopwords[0].split(',')\n",
    "\n",
    "data = pd.read_csv(file_path, encoding='utf-8',index_col = 0)\n",
    "data = clean_tokenizing(data)\n",
    "tf_idf = mk_tfidf(data)\n",
    "words_freq = mk_input(tf_idf)\n",
    "draw(words_freq,'음식',20)"
   ]
  },
  {
   "cell_type": "code",
   "execution_count": null,
   "id": "33c5a914",
   "metadata": {},
   "outputs": [],
   "source": []
  }
 ],
 "metadata": {
  "kernelspec": {
   "display_name": "Python 3",
   "language": "python",
   "name": "python3"
  },
  "language_info": {
   "codemirror_mode": {
    "name": "ipython",
    "version": 3
   },
   "file_extension": ".py",
   "mimetype": "text/x-python",
   "name": "python",
   "nbconvert_exporter": "python",
   "pygments_lexer": "ipython3",
   "version": "3.8.8"
  },
  "varInspector": {
   "cols": {
    "lenName": 16,
    "lenType": 16,
    "lenVar": 40
   },
   "kernels_config": {
    "python": {
     "delete_cmd_postfix": "",
     "delete_cmd_prefix": "del ",
     "library": "var_list.py",
     "varRefreshCmd": "print(var_dic_list())"
    },
    "r": {
     "delete_cmd_postfix": ") ",
     "delete_cmd_prefix": "rm(",
     "library": "var_list.r",
     "varRefreshCmd": "cat(var_dic_list()) "
    }
   },
   "types_to_exclude": [
    "module",
    "function",
    "builtin_function_or_method",
    "instance",
    "_Feature"
   ],
   "window_display": false
  }
 },
 "nbformat": 4,
 "nbformat_minor": 5
}
