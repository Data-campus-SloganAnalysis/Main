{
 "cells": [
  {
   "cell_type": "code",
   "execution_count": 2,
   "id": "78612df5",
   "metadata": {
    "ExecuteTime": {
     "end_time": "2021-08-23T05:17:53.678784Z",
     "start_time": "2021-08-23T05:17:48.685023Z"
    }
   },
   "outputs": [],
   "source": [
    "import re\n",
    "\n",
    "from konlpy.tag import Okt,Mecab\n",
    "from sklearn.feature_extraction.text import CountVectorizer\n",
    "\n",
    "import pandas as pd\n",
    "\n",
    "from tqdm import tqdm\n",
    "import operator\n",
    "\n",
    "import networkx as nx\n",
    "import matplotlib.pyplot as plt"
   ]
  },
  {
   "cell_type": "markdown",
   "id": "ac5e4fc4",
   "metadata": {},
   "source": [
    "Data preprocessing"
   ]
  },
  {
   "cell_type": "code",
   "execution_count": 3,
   "id": "11cd7be5",
   "metadata": {
    "ExecuteTime": {
     "end_time": "2021-08-23T05:17:53.767240Z",
     "start_time": "2021-08-23T05:17:53.743411Z"
    }
   },
   "outputs": [],
   "source": [
    "def clean_text(text):\n",
    "    cleaned_text = re.sub('[^ ㄱ-ㅣ가-힣]+',' ',text) # 한국어, 스페이스바를 제외한 모든 문자 제거\n",
    "    cleaned_text = ' '.join(cleaned_text.split()) # 너무 많은 공백이 생기므로 공백 1개로\n",
    "    return cleaned_text\n",
    "\n",
    "def get_nouns(text):\n",
    "    okt = Okt() # 형태소 분석기\n",
    "    nouns = okt.nouns(text) # 명사 추출\n",
    "    nouns = [word for word in nouns if not (word in stopwords)] # 불용어 제거\n",
    "    nouns = [word for word in nouns if len(word)>1] # 길이가 1 이상만 추출\n",
    "    return nouns"
   ]
  },
  {
   "cell_type": "code",
   "execution_count": 4,
   "id": "322fa499",
   "metadata": {
    "ExecuteTime": {
     "end_time": "2021-08-23T05:17:53.843663Z",
     "start_time": "2021-08-23T05:17:53.819103Z"
    }
   },
   "outputs": [],
   "source": [
    "def clean_tokenizing(data):\n",
    "    data = data.dropna() # 결측값 제거\n",
    "    data['내용'] = data['내용'].apply(lambda x: clean_text(x)) # 한국어만 추출\n",
    "    data['명사'] = data['내용'].apply(lambda x: get_nouns(x)) # 명사만 추출\n",
    "    \n",
    "    drop_index_list = [] # 지워버릴 index를 담는 리스트\n",
    "    for i, row in data.iterrows():\n",
    "        temp_nouns = row['명사']\n",
    "        if len(temp_nouns) == 0: # 만약 명사리스트가 비어 있다면\n",
    "            drop_index_list.append(i) # 지울 index 추가\n",
    "    data = data.drop(drop_index_list) # 해당 index를 지우기\n",
    "    data.index = range(len(data))\n",
    "    return data"
   ]
  },
  {
   "cell_type": "code",
   "execution_count": 5,
   "id": "a473241d",
   "metadata": {
    "ExecuteTime": {
     "end_time": "2021-08-23T05:17:53.919727Z",
     "start_time": "2021-08-23T05:17:53.895411Z"
    }
   },
   "outputs": [],
   "source": [
    "def mk_tfidf(data):\n",
    "    cv = CountVectorizer(max_features=1000, tokenizer=get_nouns) # data의 tf-idf 구축, tokenizer로 get_nouns 사용\n",
    "    tdm = cv.fit_transform(data['내용']) # 위의 파라미터 수에 맞게 tdm 생성\n",
    "    dataset = pd.DataFrame(data=tdm.todense(),columns=cv.get_feature_names())\n",
    "    return dataset"
   ]
  },
  {
   "cell_type": "code",
   "execution_count": 6,
   "id": "5e34f3eb",
   "metadata": {
    "ExecuteTime": {
     "end_time": "2021-08-23T05:17:53.993039Z",
     "start_time": "2021-08-23T05:17:53.968944Z"
    }
   },
   "outputs": [],
   "source": [
    "def mk_input(tf_idf):\n",
    "    column_list = list(tf_idf.columns)\n",
    "    word_length = len(column_list)\n",
    "\n",
    "    # 각 단어쌍의 빈도수를 저장할 dictionary 생성\n",
    "    count_dict = {}\n",
    "\n",
    "    for doc_number in tqdm(range(len(tf_idf)), desc='단어쌍 만들기 진행중'):\n",
    "        tmp = tf_idf.loc[doc_number]           # 현재 문서의 단어 출현 빈도 데이터를 가져온다.\n",
    "        for i, word1 in enumerate(column_list):\n",
    "            if tmp[word1]:              # 현재 문서에 첫번째 단어가 존재할 경우\n",
    "                for j in range(i + 1, word_length):\n",
    "                    if tmp[column_list[j]]:              # 현재 문서에 두번째 단어가 존재할 경우\n",
    "                        count_dict[column_list[i], column_list[j]] = count_dict.get((column_list[i], column_list[j]), 0) + max(tmp[word1], tmp[column_list[j]])\n",
    "\n",
    "    # count_list에 word1, word2, frequency 형태로 저장할 것이다.\n",
    "    count_list = []\n",
    "\n",
    "    for words in count_dict:\n",
    "        count_list.append([words[0], words[1], count_dict[words]])\n",
    "\n",
    "    # 단어쌍 동시 출현 빈도를 DataFrame 형식으로 만든다.\n",
    "    df = pd.DataFrame(count_list, columns=[\"word1\", \"word2\", \"freq\"])\n",
    "    df = df.sort_values(by=['freq'], ascending=False)\n",
    "    df = df.reset_index(drop=True)\n",
    "    return df"
   ]
  },
  {
   "cell_type": "markdown",
   "id": "3b826ecb",
   "metadata": {},
   "source": [
    "감성사전에 따른 가중치 추가해야함"
   ]
  },
  {
   "cell_type": "code",
   "execution_count": 7,
   "id": "c5319ae8",
   "metadata": {
    "ExecuteTime": {
     "end_time": "2021-08-23T05:17:54.095908Z",
     "start_time": "2021-08-23T05:17:54.055374Z"
    }
   },
   "outputs": [],
   "source": [
    "def draw(df, keyword, length):\n",
    "    font_family='NanumSquareRound'\n",
    "    print(keyword, length)\n",
    "    dataset = df[df['word1'].isin(keyword)]\n",
    "    print(dataset)\n",
    "    G_centrality = nx.Graph()\n",
    "\n",
    "    # 빈도수가 20000 이상인 단어쌍에 대해서만 edge(간선)을 표현한다.\n",
    "    for ind in list(dataset.index)[:length]:\n",
    "        G_centrality.add_edge(dataset['word1'][ind], dataset['word2'][ind], weight=int(dataset['freq'][ind]))\n",
    "\n",
    "    dgr = nx.degree_centrality(G_centrality)        # 연결 중심성\n",
    "    btw = nx.betweenness_centrality(G_centrality)   # 매개 중심성\n",
    "    cls = nx.closeness_centrality(G_centrality)     # 근접 중심성\n",
    "    egv = nx.eigenvector_centrality(G_centrality)   # 고유벡터 중심성\n",
    "    pgr = nx.pagerank(G_centrality)                 # 페이지 랭크\n",
    "\n",
    "    sorted_dgr = sorted(dgr.items(), key=operator.itemgetter(1), reverse=True)\n",
    "    sorted_btw = sorted(btw.items(), key=operator.itemgetter(1), reverse=True)\n",
    "    sorted_cls = sorted(cls.items(), key=operator.itemgetter(1), reverse=True)\n",
    "    sorted_egv = sorted(egv.items(), key=operator.itemgetter(1), reverse=True)\n",
    "    sorted_pgr = sorted(pgr.items(), key=operator.itemgetter(1), reverse=True)\n",
    "\n",
    "    G = nx.Graph()\n",
    "    \n",
    "    for i in range(len(sorted_pgr)): # 페이지 랭크에 따른 노드 추가, 노드 사이즈는 연결 중심성으로 결정\n",
    "        G.add_node(sorted_pgr[i][0], nodesize=sorted_dgr[i][1],color='r')\n",
    "\n",
    "    for ind in list(dataset.index)[:length]: # 같이 나온 빈도수가 많을 수록 가까움\n",
    "        G.add_weighted_edges_from([(dataset['word1'][ind], dataset['word2'][ind], int(dataset['freq'][ind]))])\n",
    "        \n",
    "    words = list(G.nodes)\n",
    "    sent_points = []\n",
    "    word_points = {}\n",
    "    for word in words:\n",
    "        try:\n",
    "            sent_point = float(sent[sent['단어'] == word]['points'].values)\n",
    "            word_points[word] = sent_point\n",
    "            sent_points.append(sent_point)\n",
    "        except:\n",
    "            word_points[word] = 0\n",
    "            sent_points.append(0) \n",
    "    \n",
    "    #colors = list(r)\n",
    "\n",
    "    # 노드 크기 조정\n",
    "    sizes = [G.nodes[node]['nodesize'] * 5000+1000 for node in G] \n",
    "\n",
    "    # 옵션\n",
    "    options = {\n",
    "        'edge_color': '#000000',\n",
    "        'width': 1,\n",
    "        'with_labels': True,\n",
    "        'font_weight': 'regular',\n",
    "        'cmap' : 'jet',\n",
    "        'node_color' : sent_points,\n",
    "        'alpha' : 0.5\n",
    "    }\n",
    "\n",
    "\n",
    "    plt.figure(figsize=(8,5))\n",
    "    nx.draw(G, node_size=sizes,\n",
    "            pos=nx.spring_layout(G, k=3.5, iterations=100), **options, font_family=font_family)  # font_family로 폰트 등록\n",
    "    ax = plt.gca()\n",
    "    ax.collections[0].set_edgecolor(\"#555555\")\n",
    "    plt.show()\n",
    "    return word_points"
   ]
  },
  {
   "cell_type": "markdown",
   "id": "f28159d9",
   "metadata": {},
   "source": [
    "연관 출현 빈도 분석결과 저장시"
   ]
  },
  {
   "cell_type": "code",
   "execution_count": 23,
   "id": "fc1c0d43",
   "metadata": {
    "ExecuteTime": {
     "end_time": "2021-08-22T06:40:22.252642Z",
     "start_time": "2021-08-22T06:25:26.092587Z"
    }
   },
   "outputs": [
    {
     "name": "stderr",
     "output_type": "stream",
     "text": [
      "단어쌍 만들기 진행중: 100%|████████████████████████████████████████████████████████| 1105/1105 [10:33<00:00,  1.74it/s]\n"
     ]
    }
   ],
   "source": [
    "file_path='C:/Users/hyunsoo/study/ds_project/crawler/박채희/crawler/환경오염.csv' # 파일 수정필요\n",
    "stopwords_path = './data/stopwords.txt'\n",
    "sent = pd.read_csv('./data/dict.csv',encoding='cp949')\n",
    "with open(stopwords_path,'r') as op:\n",
    "    stopwords = op.readlines()\n",
    "    stopwords = stopwords[0].split(',')\n",
    "\n",
    "data = pd.read_csv(file_path, encoding='cp949',index_col = 0)\n",
    "data = clean_tokenizing(data)\n",
    "tf_idf = mk_tfidf(data)\n",
    "words_freq = mk_input(tf_idf)\n",
    "words_freq.to_csv('data/words_freq.csv',encoding='cp949')"
   ]
  },
  {
   "cell_type": "code",
   "execution_count": 2,
   "id": "33c5a914",
   "metadata": {
    "ExecuteTime": {
     "end_time": "2021-08-23T02:14:36.204183Z",
     "start_time": "2021-08-23T02:14:31.933247Z"
    }
   },
   "outputs": [],
   "source": [
    "words_freq = pd.read_csv('./data/words_freq.csv',encoding='cp949')\n",
    "sent = pd.read_csv('./data/dict.csv',encoding='cp949')"
   ]
  },
  {
   "cell_type": "code",
   "execution_count": 11,
   "id": "abaa2378",
   "metadata": {
    "ExecuteTime": {
     "end_time": "2021-08-23T02:17:10.327828Z",
     "start_time": "2021-08-23T02:17:09.654683Z"
    }
   },
   "outputs": [
    {
     "name": "stdout",
     "output_type": "stream",
     "text": [
      "['코인', '테슬라'] 20\n",
      "         Unnamed: 0 word1 word2  freq\n",
      "52633         52633    코인    화폐    56\n",
      "59643         59643   테슬라    환경    52\n",
      "66178         66178   테슬라  환경오염    48\n",
      "68538         68538   테슬라    현재    47\n",
      "73452         73452    코인    환경    45\n",
      "...             ...   ...   ...   ...\n",
      "2482639     2482639    코인  홈페이지     1\n",
      "2482640     2482640    코인    환기     1\n",
      "2482641     2482641    코인    훼손     1\n",
      "2482929     2482929   테슬라    풍력     1\n",
      "2482930     2482930   테슬라    흡수     1\n",
      "\n",
      "[216 rows x 4 columns]\n"
     ]
    },
    {
     "data": {
      "image/png": "[encoded data removed]",
      "text/plain": [
       "<Figure size 576x360 with 1 Axes>"
      ]
     },
     "metadata": {},
     "output_type": "display_data"
    },
    {
     "name": "stdout",
     "output_type": "stream",
     "text": [
      "{'테슬라': 0.0034647694741412, '코인': -0.4003071999232327, '화폐': 0, '환경': 0.0234662641354019, '환경오염': -1.0, '트위터': 0, '행보': 0, '투자자': 0, '현재': 0.1114123860276696, '평가': 0.1010959641487919, '효율': 0.0371234619324266, '프로젝트': 0.1534236028570561, '한국': 0.1626167059332343, '하락': 0, '해당': -0.0106338073469777}\n"
     ]
    }
   ],
   "source": [
    "print(draw(words_freq,['코인','테슬라'],20))"
   ]
  },
  {
   "cell_type": "code",
   "execution_count": 47,
   "id": "efd92000",
   "metadata": {
    "ExecuteTime": {
     "end_time": "2021-08-22T09:19:59.763503Z",
     "start_time": "2021-08-22T09:19:59.616291Z"
    }
   },
   "outputs": [
    {
     "name": "stderr",
     "output_type": "stream",
     "text": [
      "C:\\python_anaconda3\\lib\\site-packages\\matplotlib\\backends\\backend_agg.py:238: RuntimeWarning: Glyph 8722 missing from current font.\n",
      "  font.set_text(s, 0.0, flags=flags)\n",
      "C:\\python_anaconda3\\lib\\site-packages\\matplotlib\\backends\\backend_agg.py:201: RuntimeWarning: Glyph 8722 missing from current font.\n",
      "  font.set_text(s, 0, flags=flags)\n"
     ]
    },
    {
     "data": {
      "image/png": "[encoded data removed]",
      "text/plain": [
       "<Figure size 432x288 with 1 Axes>"
      ]
     },
     "metadata": {
      "needs_background": "light"
     },
     "output_type": "display_data"
    }
   ],
   "source": [
    "import seaborn as sns\n",
    "\n",
    "sns.kdeplot(sent['points'])\n",
    "plt.title('min-max points')\n",
    "plt.show()"
   ]
  },
  {
   "cell_type": "code",
   "execution_count": 48,
   "id": "d51dd277",
   "metadata": {
    "ExecuteTime": {
     "end_time": "2021-08-22T09:20:02.885780Z",
     "start_time": "2021-08-22T09:20:02.748892Z"
    }
   },
   "outputs": [
    {
     "data": {
      "text/plain": [
       "<AxesSubplot:xlabel='회귀계수', ylabel='Density'>"
      ]
     },
     "execution_count": 48,
     "metadata": {},
     "output_type": "execute_result"
    },
    {
     "name": "stderr",
     "output_type": "stream",
     "text": [
      "C:\\python_anaconda3\\lib\\site-packages\\matplotlib\\backends\\backend_agg.py:238: RuntimeWarning: Glyph 8722 missing from current font.\n",
      "  font.set_text(s, 0.0, flags=flags)\n",
      "C:\\python_anaconda3\\lib\\site-packages\\matplotlib\\backends\\backend_agg.py:201: RuntimeWarning: Glyph 8722 missing from current font.\n",
      "  font.set_text(s, 0, flags=flags)\n"
     ]
    },
    {
     "data": {
      "image/png": "[encoded data removed]",
      "text/plain": [
       "<Figure size 432x288 with 1 Axes>"
      ]
     },
     "metadata": {
      "needs_background": "light"
     },
     "output_type": "display_data"
    }
   ],
   "source": [
    "sns.kdeplot(sent['회귀계수']/sent['회귀계수'].std())"
   ]
  },
  {
   "cell_type": "code",
   "execution_count": 28,
   "id": "b36ba545",
   "metadata": {
    "ExecuteTime": {
     "end_time": "2021-08-22T14:36:44.840378Z",
     "start_time": "2021-08-22T14:36:44.805204Z"
    }
   },
   "outputs": [
    {
     "data": {
      "text/html": [
       "<div>\n",
       "<style scoped>\n",
       "    .dataframe tbody tr th:only-of-type {\n",
       "        vertical-align: middle;\n",
       "    }\n",
       "\n",
       "    .dataframe tbody tr th {\n",
       "        vertical-align: top;\n",
       "    }\n",
       "\n",
       "    .dataframe thead th {\n",
       "        text-align: right;\n",
       "    }\n",
       "</style>\n",
       "<table border=\"1\" class=\"dataframe\">\n",
       "  <thead>\n",
       "    <tr style=\"text-align: right;\">\n",
       "      <th></th>\n",
       "      <th>Unnamed: 0</th>\n",
       "      <th>단어</th>\n",
       "      <th>회귀계수</th>\n",
       "      <th>points</th>\n",
       "    </tr>\n",
       "  </thead>\n",
       "  <tbody>\n",
       "    <tr>\n",
       "      <th>0</th>\n",
       "      <td>840</td>\n",
       "      <td>친환경</td>\n",
       "      <td>8.320163</td>\n",
       "      <td>1.0</td>\n",
       "    </tr>\n",
       "  </tbody>\n",
       "</table>\n",
       "</div>"
      ],
      "text/plain": [
       "   Unnamed: 0   단어      회귀계수  points\n",
       "0         840  친환경  8.320163     1.0"
      ]
     },
     "execution_count": 28,
     "metadata": {},
     "output_type": "execute_result"
    }
   ],
   "source": [
    "sent[sent['단어'].isin(['친환경'])]"
   ]
  },
  {
   "cell_type": "code",
   "execution_count": 13,
   "id": "9040fc97",
   "metadata": {
    "ExecuteTime": {
     "end_time": "2021-08-23T02:32:18.987030Z",
     "start_time": "2021-08-23T02:32:18.942933Z"
    }
   },
   "outputs": [
    {
     "data": {
      "text/html": [
       "<div>\n",
       "<style scoped>\n",
       "    .dataframe tbody tr th:only-of-type {\n",
       "        vertical-align: middle;\n",
       "    }\n",
       "\n",
       "    .dataframe tbody tr th {\n",
       "        vertical-align: top;\n",
       "    }\n",
       "\n",
       "    .dataframe thead th {\n",
       "        text-align: right;\n",
       "    }\n",
       "</style>\n",
       "<table border=\"1\" class=\"dataframe\">\n",
       "  <thead>\n",
       "    <tr style=\"text-align: right;\">\n",
       "      <th></th>\n",
       "      <th>Unnamed: 0</th>\n",
       "      <th>단어</th>\n",
       "      <th>회귀계수</th>\n",
       "      <th>points</th>\n",
       "    </tr>\n",
       "  </thead>\n",
       "  <tbody>\n",
       "    <tr>\n",
       "      <th>506</th>\n",
       "      <td>977</td>\n",
       "      <td>환경오염</td>\n",
       "      <td>-8.457512</td>\n",
       "      <td>-1.000000</td>\n",
       "    </tr>\n",
       "    <tr>\n",
       "      <th>507</th>\n",
       "      <td>773</td>\n",
       "      <td>지구</td>\n",
       "      <td>-5.106258</td>\n",
       "      <td>-0.603551</td>\n",
       "    </tr>\n",
       "    <tr>\n",
       "      <th>508</th>\n",
       "      <td>220</td>\n",
       "      <td>리플</td>\n",
       "      <td>-4.510213</td>\n",
       "      <td>-0.533040</td>\n",
       "    </tr>\n",
       "    <tr>\n",
       "      <th>509</th>\n",
       "      <td>627</td>\n",
       "      <td>의약품</td>\n",
       "      <td>-3.697882</td>\n",
       "      <td>-0.436942</td>\n",
       "    </tr>\n",
       "    <tr>\n",
       "      <th>510</th>\n",
       "      <td>515</td>\n",
       "      <td>쓰레기</td>\n",
       "      <td>-3.685172</td>\n",
       "      <td>-0.435439</td>\n",
       "    </tr>\n",
       "    <tr>\n",
       "      <th>511</th>\n",
       "      <td>263</td>\n",
       "      <td>문제</td>\n",
       "      <td>-3.657819</td>\n",
       "      <td>-0.432203</td>\n",
       "    </tr>\n",
       "    <tr>\n",
       "      <th>512</th>\n",
       "      <td>296</td>\n",
       "      <td>발생</td>\n",
       "      <td>-3.574811</td>\n",
       "      <td>-0.422383</td>\n",
       "    </tr>\n",
       "    <tr>\n",
       "      <th>513</th>\n",
       "      <td>39</td>\n",
       "      <td>건설</td>\n",
       "      <td>-3.514378</td>\n",
       "      <td>-0.415234</td>\n",
       "    </tr>\n",
       "    <tr>\n",
       "      <th>514</th>\n",
       "      <td>767</td>\n",
       "      <td>중앙</td>\n",
       "      <td>-3.491112</td>\n",
       "      <td>-0.412482</td>\n",
       "    </tr>\n",
       "    <tr>\n",
       "      <th>515</th>\n",
       "      <td>853</td>\n",
       "      <td>코인</td>\n",
       "      <td>-3.388198</td>\n",
       "      <td>-0.400307</td>\n",
       "    </tr>\n",
       "    <tr>\n",
       "      <th>516</th>\n",
       "      <td>65</td>\n",
       "      <td>공사</td>\n",
       "      <td>-3.289949</td>\n",
       "      <td>-0.388685</td>\n",
       "    </tr>\n",
       "    <tr>\n",
       "      <th>517</th>\n",
       "      <td>86</td>\n",
       "      <td>구매</td>\n",
       "      <td>-3.253437</td>\n",
       "      <td>-0.384365</td>\n",
       "    </tr>\n",
       "    <tr>\n",
       "      <th>518</th>\n",
       "      <td>131</td>\n",
       "      <td>나중</td>\n",
       "      <td>-3.093382</td>\n",
       "      <td>-0.365431</td>\n",
       "    </tr>\n",
       "    <tr>\n",
       "      <th>519</th>\n",
       "      <td>614</td>\n",
       "      <td>유류</td>\n",
       "      <td>-3.012255</td>\n",
       "      <td>-0.355834</td>\n",
       "    </tr>\n",
       "    <tr>\n",
       "      <th>520</th>\n",
       "      <td>321</td>\n",
       "      <td>범</td>\n",
       "      <td>-2.961593</td>\n",
       "      <td>-0.349840</td>\n",
       "    </tr>\n",
       "    <tr>\n",
       "      <th>521</th>\n",
       "      <td>534</td>\n",
       "      <td>앨범</td>\n",
       "      <td>-2.794955</td>\n",
       "      <td>-0.330127</td>\n",
       "    </tr>\n",
       "    <tr>\n",
       "      <th>522</th>\n",
       "      <td>836</td>\n",
       "      <td>측정</td>\n",
       "      <td>-2.789637</td>\n",
       "      <td>-0.329498</td>\n",
       "    </tr>\n",
       "    <tr>\n",
       "      <th>523</th>\n",
       "      <td>77</td>\n",
       "      <td>관리</td>\n",
       "      <td>-2.774699</td>\n",
       "      <td>-0.327731</td>\n",
       "    </tr>\n",
       "    <tr>\n",
       "      <th>524</th>\n",
       "      <td>44</td>\n",
       "      <td>결제</td>\n",
       "      <td>-2.724540</td>\n",
       "      <td>-0.321797</td>\n",
       "    </tr>\n",
       "    <tr>\n",
       "      <th>525</th>\n",
       "      <td>241</td>\n",
       "      <td>맨</td>\n",
       "      <td>-2.709285</td>\n",
       "      <td>-0.319993</td>\n",
       "    </tr>\n",
       "  </tbody>\n",
       "</table>\n",
       "</div>"
      ],
      "text/plain": [
       "     Unnamed: 0    단어      회귀계수    points\n",
       "506         977  환경오염 -8.457512 -1.000000\n",
       "507         773    지구 -5.106258 -0.603551\n",
       "508         220    리플 -4.510213 -0.533040\n",
       "509         627   의약품 -3.697882 -0.436942\n",
       "510         515   쓰레기 -3.685172 -0.435439\n",
       "511         263    문제 -3.657819 -0.432203\n",
       "512         296    발생 -3.574811 -0.422383\n",
       "513          39    건설 -3.514378 -0.415234\n",
       "514         767    중앙 -3.491112 -0.412482\n",
       "515         853    코인 -3.388198 -0.400307\n",
       "516          65    공사 -3.289949 -0.388685\n",
       "517          86    구매 -3.253437 -0.384365\n",
       "518         131    나중 -3.093382 -0.365431\n",
       "519         614    유류 -3.012255 -0.355834\n",
       "520         321     범 -2.961593 -0.349840\n",
       "521         534    앨범 -2.794955 -0.330127\n",
       "522         836    측정 -2.789637 -0.329498\n",
       "523          77    관리 -2.774699 -0.327731\n",
       "524          44    결제 -2.724540 -0.321797\n",
       "525         241     맨 -2.709285 -0.319993"
      ]
     },
     "execution_count": 13,
     "metadata": {},
     "output_type": "execute_result"
    }
   ],
   "source": [
    "sent[sent['회귀계수']<0][:20]"
   ]
  },
  {
   "cell_type": "code",
   "execution_count": 14,
   "id": "1ee6ab7d",
   "metadata": {
    "ExecuteTime": {
     "end_time": "2021-08-23T02:32:24.985766Z",
     "start_time": "2021-08-23T02:32:24.958406Z"
    }
   },
   "outputs": [
    {
     "data": {
      "text/html": [
       "<div>\n",
       "<style scoped>\n",
       "    .dataframe tbody tr th:only-of-type {\n",
       "        vertical-align: middle;\n",
       "    }\n",
       "\n",
       "    .dataframe tbody tr th {\n",
       "        vertical-align: top;\n",
       "    }\n",
       "\n",
       "    .dataframe thead th {\n",
       "        text-align: right;\n",
       "    }\n",
       "</style>\n",
       "<table border=\"1\" class=\"dataframe\">\n",
       "  <thead>\n",
       "    <tr style=\"text-align: right;\">\n",
       "      <th></th>\n",
       "      <th>Unnamed: 0</th>\n",
       "      <th>단어</th>\n",
       "      <th>회귀계수</th>\n",
       "      <th>points</th>\n",
       "    </tr>\n",
       "  </thead>\n",
       "  <tbody>\n",
       "    <tr>\n",
       "      <th>0</th>\n",
       "      <td>840</td>\n",
       "      <td>친환경</td>\n",
       "      <td>8.320163</td>\n",
       "      <td>1.000000</td>\n",
       "    </tr>\n",
       "    <tr>\n",
       "      <th>1</th>\n",
       "      <td>521</td>\n",
       "      <td>아웃</td>\n",
       "      <td>4.020127</td>\n",
       "      <td>0.483013</td>\n",
       "    </tr>\n",
       "    <tr>\n",
       "      <th>2</th>\n",
       "      <td>584</td>\n",
       "      <td>옷</td>\n",
       "      <td>3.538164</td>\n",
       "      <td>0.425068</td>\n",
       "    </tr>\n",
       "    <tr>\n",
       "      <th>3</th>\n",
       "      <td>337</td>\n",
       "      <td>보전</td>\n",
       "      <td>3.162151</td>\n",
       "      <td>0.379860</td>\n",
       "    </tr>\n",
       "    <tr>\n",
       "      <th>4</th>\n",
       "      <td>958</td>\n",
       "      <td>형</td>\n",
       "      <td>3.123427</td>\n",
       "      <td>0.375204</td>\n",
       "    </tr>\n",
       "    <tr>\n",
       "      <th>5</th>\n",
       "      <td>795</td>\n",
       "      <td>차</td>\n",
       "      <td>2.977596</td>\n",
       "      <td>0.357671</td>\n",
       "    </tr>\n",
       "    <tr>\n",
       "      <th>6</th>\n",
       "      <td>9</td>\n",
       "      <td>가장</td>\n",
       "      <td>2.848457</td>\n",
       "      <td>0.342145</td>\n",
       "    </tr>\n",
       "    <tr>\n",
       "      <th>7</th>\n",
       "      <td>420</td>\n",
       "      <td>생활</td>\n",
       "      <td>2.628966</td>\n",
       "      <td>0.315756</td>\n",
       "    </tr>\n",
       "    <tr>\n",
       "      <th>8</th>\n",
       "      <td>871</td>\n",
       "      <td>텀블러</td>\n",
       "      <td>2.612707</td>\n",
       "      <td>0.313801</td>\n",
       "    </tr>\n",
       "    <tr>\n",
       "      <th>9</th>\n",
       "      <td>163</td>\n",
       "      <td>달</td>\n",
       "      <td>2.572218</td>\n",
       "      <td>0.308933</td>\n",
       "    </tr>\n",
       "    <tr>\n",
       "      <th>10</th>\n",
       "      <td>55</td>\n",
       "      <td>고기</td>\n",
       "      <td>2.334181</td>\n",
       "      <td>0.280315</td>\n",
       "    </tr>\n",
       "    <tr>\n",
       "      <th>11</th>\n",
       "      <td>780</td>\n",
       "      <td>지속</td>\n",
       "      <td>2.284678</td>\n",
       "      <td>0.274363</td>\n",
       "    </tr>\n",
       "    <tr>\n",
       "      <th>12</th>\n",
       "      <td>870</td>\n",
       "      <td>태양광</td>\n",
       "      <td>2.266057</td>\n",
       "      <td>0.272124</td>\n",
       "    </tr>\n",
       "    <tr>\n",
       "      <th>13</th>\n",
       "      <td>164</td>\n",
       "      <td>닭</td>\n",
       "      <td>2.190763</td>\n",
       "      <td>0.263072</td>\n",
       "    </tr>\n",
       "    <tr>\n",
       "      <th>14</th>\n",
       "      <td>473</td>\n",
       "      <td>순</td>\n",
       "      <td>2.180890</td>\n",
       "      <td>0.261885</td>\n",
       "    </tr>\n",
       "    <tr>\n",
       "      <th>15</th>\n",
       "      <td>476</td>\n",
       "      <td>순천만</td>\n",
       "      <td>2.156755</td>\n",
       "      <td>0.258983</td>\n",
       "    </tr>\n",
       "    <tr>\n",
       "      <th>16</th>\n",
       "      <td>475</td>\n",
       "      <td>순천</td>\n",
       "      <td>2.155422</td>\n",
       "      <td>0.258823</td>\n",
       "    </tr>\n",
       "    <tr>\n",
       "      <th>17</th>\n",
       "      <td>357</td>\n",
       "      <td>분</td>\n",
       "      <td>2.134980</td>\n",
       "      <td>0.256365</td>\n",
       "    </tr>\n",
       "    <tr>\n",
       "      <th>18</th>\n",
       "      <td>391</td>\n",
       "      <td>사업</td>\n",
       "      <td>2.120536</td>\n",
       "      <td>0.254628</td>\n",
       "    </tr>\n",
       "    <tr>\n",
       "      <th>19</th>\n",
       "      <td>694</td>\n",
       "      <td>적극</td>\n",
       "      <td>2.113104</td>\n",
       "      <td>0.253735</td>\n",
       "    </tr>\n",
       "  </tbody>\n",
       "</table>\n",
       "</div>"
      ],
      "text/plain": [
       "    Unnamed: 0   단어      회귀계수    points\n",
       "0          840  친환경  8.320163  1.000000\n",
       "1          521   아웃  4.020127  0.483013\n",
       "2          584    옷  3.538164  0.425068\n",
       "3          337   보전  3.162151  0.379860\n",
       "4          958    형  3.123427  0.375204\n",
       "5          795    차  2.977596  0.357671\n",
       "6            9   가장  2.848457  0.342145\n",
       "7          420   생활  2.628966  0.315756\n",
       "8          871  텀블러  2.612707  0.313801\n",
       "9          163    달  2.572218  0.308933\n",
       "10          55   고기  2.334181  0.280315\n",
       "11         780   지속  2.284678  0.274363\n",
       "12         870  태양광  2.266057  0.272124\n",
       "13         164    닭  2.190763  0.263072\n",
       "14         473    순  2.180890  0.261885\n",
       "15         476  순천만  2.156755  0.258983\n",
       "16         475   순천  2.155422  0.258823\n",
       "17         357    분  2.134980  0.256365\n",
       "18         391   사업  2.120536  0.254628\n",
       "19         694   적극  2.113104  0.253735"
      ]
     },
     "execution_count": 14,
     "metadata": {},
     "output_type": "execute_result"
    }
   ],
   "source": [
    "sent[sent['회귀계수']>0][:20]"
   ]
  },
  {
   "cell_type": "markdown",
   "id": "8516daf9",
   "metadata": {},
   "source": [
    "* * *"
   ]
  },
  {
   "cell_type": "code",
   "execution_count": 11,
   "id": "c79e42aa",
   "metadata": {
    "ExecuteTime": {
     "end_time": "2021-08-23T04:52:19.554086Z",
     "start_time": "2021-08-23T04:52:18.971381Z"
    }
   },
   "outputs": [],
   "source": [
    "news = pd.concat([pd.read_csv('Data/친환경_news.csv',encoding='cp949'),pd.read_csv('Data/환경오염_news.csv',encoding='cp949')])"
   ]
  },
  {
   "cell_type": "code",
   "execution_count": 9,
   "id": "a8784854",
   "metadata": {
    "ExecuteTime": {
     "end_time": "2021-08-23T05:19:38.229074Z",
     "start_time": "2021-08-23T05:19:38.196520Z"
    }
   },
   "outputs": [],
   "source": [
    "file_path='C:/Users/hyunsoo/study/ds_project/crawler/박채희/crawler/환경오염.csv' # 파일 수정필요\n",
    "stopwords_path = './data/stopwords.txt'\n",
    "sent = pd.read_csv('./data/dict.csv',encoding='cp949')\n",
    "with open(stopwords_path,'r') as op:\n",
    "    stopwords = op.readlines()\n",
    "    stopwords = stopwords[0].split(',')"
   ]
  },
  {
   "cell_type": "code",
   "execution_count": 18,
   "id": "0186ce87",
   "metadata": {
    "ExecuteTime": {
     "end_time": "2021-08-23T05:07:54.681885Z",
     "start_time": "2021-08-23T04:52:32.662653Z"
    }
   },
   "outputs": [
    {
     "name": "stderr",
     "output_type": "stream",
     "text": [
      "<ipython-input-13-0fca09fa8b33>:3: SettingWithCopyWarning: \n",
      "A value is trying to be set on a copy of a slice from a DataFrame.\n",
      "Try using .loc[row_indexer,col_indexer] = value instead\n",
      "\n",
      "See the caveats in the documentation: https://pandas.pydata.org/pandas-docs/stable/user_guide/indexing.html#returning-a-view-versus-a-copy\n",
      "  data['내용'] = data['내용'].apply(lambda x: clean_text(x)) # 한국어만 추출\n",
      "<ipython-input-13-0fca09fa8b33>:4: SettingWithCopyWarning: \n",
      "A value is trying to be set on a copy of a slice from a DataFrame.\n",
      "Try using .loc[row_indexer,col_indexer] = value instead\n",
      "\n",
      "See the caveats in the documentation: https://pandas.pydata.org/pandas-docs/stable/user_guide/indexing.html#returning-a-view-versus-a-copy\n",
      "  data['명사'] = data['내용'].apply(lambda x: get_nouns(x)) # 명사만 추출\n",
      "단어쌍 만들기 진행중: 100%|████████████████████████████████████████████████████████| 1131/1131 [08:41<00:00,  2.17it/s]\n"
     ]
    }
   ],
   "source": [
    "#news_data = pd.read_csv(file_path, encoding='cp949',index_col = 0)\n",
    "news_data = clean_tokenizing(news)\n",
    "news_tf_idf = mk_tfidf(news_data)\n",
    "news_words_freq = mk_input(news_tf_idf)"
   ]
  },
  {
   "cell_type": "code",
   "execution_count": 20,
   "id": "ca25b0dc",
   "metadata": {
    "ExecuteTime": {
     "end_time": "2021-08-23T05:15:51.146381Z",
     "start_time": "2021-08-23T05:15:48.893071Z"
    }
   },
   "outputs": [],
   "source": [
    "news_words_freq.to_csv('news_words_frea.csv',encoding='cp949')"
   ]
  },
  {
   "cell_type": "code",
   "execution_count": 10,
   "id": "c843743d",
   "metadata": {
    "ExecuteTime": {
     "end_time": "2021-08-23T05:37:34.411582Z",
     "start_time": "2021-08-23T05:19:40.291357Z"
    }
   },
   "outputs": [
    {
     "name": "stderr",
     "output_type": "stream",
     "text": [
      "단어쌍 만들기 진행중: 100%|████████████████████████████████████████████████████████| 3022/3022 [08:05<00:00,  6.22it/s]\n"
     ]
    }
   ],
   "source": [
    "community = pd.concat([pd.read_csv('Data/친환경_community.csv',encoding='cp949'),pd.read_csv('Data/환경오염_community.csv')])\n",
    "community_data = clean_tokenizing(community)\n",
    "community_tf_idf = mk_tfidf(community_data)\n",
    "community_words_freq = mk_input(community_tf_idf)\n",
    "community_words_freq.to_csv('community_words_freq.csv',encoding='cp949')"
   ]
  },
  {
   "cell_type": "code",
   "execution_count": 11,
   "id": "1e8e4c1c",
   "metadata": {
    "ExecuteTime": {
     "end_time": "2021-08-23T05:46:33.732273Z",
     "start_time": "2021-08-23T05:43:34.699588Z"
    }
   },
   "outputs": [
    {
     "name": "stderr",
     "output_type": "stream",
     "text": [
      "<ipython-input-4-0fca09fa8b33>:3: SettingWithCopyWarning: \n",
      "A value is trying to be set on a copy of a slice from a DataFrame.\n",
      "Try using .loc[row_indexer,col_indexer] = value instead\n",
      "\n",
      "See the caveats in the documentation: https://pandas.pydata.org/pandas-docs/stable/user_guide/indexing.html#returning-a-view-versus-a-copy\n",
      "  data['내용'] = data['내용'].apply(lambda x: clean_text(x)) # 한국어만 추출\n",
      "<ipython-input-4-0fca09fa8b33>:4: SettingWithCopyWarning: \n",
      "A value is trying to be set on a copy of a slice from a DataFrame.\n",
      "Try using .loc[row_indexer,col_indexer] = value instead\n",
      "\n",
      "See the caveats in the documentation: https://pandas.pydata.org/pandas-docs/stable/user_guide/indexing.html#returning-a-view-versus-a-copy\n",
      "  data['명사'] = data['내용'].apply(lambda x: get_nouns(x)) # 명사만 추출\n",
      "단어쌍 만들기 진행중: 100%|██████████████████████████████████████████████████████████| 978/978 [01:12<00:00, 13.53it/s]\n"
     ]
    }
   ],
   "source": [
    "sns = pd.concat([pd.read_csv('Data/친환경_sns.csv'),pd.read_csv('Data/환경오염_sns.csv')])\n",
    "sns_data = clean_tokenizing(sns)\n",
    "sns_tf_idf = mk_tfidf(sns_data)\n",
    "sns_words_freq = mk_input(sns_tf_idf)\n",
    "sns_words_freq.to_csv('sns_words_freq.csv',encoding='cp949')"
   ]
  },
  {
   "cell_type": "code",
   "execution_count": null,
   "id": "acf823b8",
   "metadata": {},
   "outputs": [],
   "source": []
  }
 ],
 "metadata": {
  "kernelspec": {
   "display_name": "Python 3",
   "language": "python",
   "name": "python3"
  },
  "language_info": {
   "codemirror_mode": {
    "name": "ipython",
    "version": 3
   },
   "file_extension": ".py",
   "mimetype": "text/x-python",
   "name": "python",
   "nbconvert_exporter": "python",
   "pygments_lexer": "ipython3",
   "version": "3.8.8"
  },
  "varInspector": {
   "cols": {
    "lenName": 16,
    "lenType": 16,
    "lenVar": 40
   },
   "kernels_config": {
    "python": {
     "delete_cmd_postfix": "",
     "delete_cmd_prefix": "del ",
     "library": "var_list.py",
     "varRefreshCmd": "print(var_dic_list())"
    },
    "r": {
     "delete_cmd_postfix": ") ",
     "delete_cmd_prefix": "rm(",
     "library": "var_list.r",
     "varRefreshCmd": "cat(var_dic_list()) "
    }
   },
   "types_to_exclude": [
    "module",
    "function",
    "builtin_function_or_method",
    "instance",
    "_Feature"
   ],
   "window_display": false
  }
 },
 "nbformat": 4,
 "nbformat_minor": 5
}
