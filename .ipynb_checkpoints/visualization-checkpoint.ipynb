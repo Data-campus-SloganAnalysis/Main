{
 "cells": [
  {
   "cell_type": "code",
   "execution_count": 2,
   "id": "78612df5",
   "metadata": {
    "ExecuteTime": {
     "end_time": "2021-08-23T05:17:53.678784Z",
     "start_time": "2021-08-23T05:17:48.685023Z"
    }
   },
   "outputs": [],
   "source": [
    "import re\n",
    "\n",
    "from konlpy.tag import Okt,Mecab\n",
    "from sklearn.feature_extraction.text import CountVectorizer\n",
    "\n",
    "import pandas as pd\n",
    "\n",
    "from tqdm import tqdm\n",
    "import operator\n",
    "\n",
    "import networkx as nx\n",
    "import matplotlib.pyplot as plt"
   ]
  },
  {
   "cell_type": "markdown",
   "id": "ac5e4fc4",
   "metadata": {},
   "source": [
    "Data preprocessing"
   ]
  },
  {
   "cell_type": "code",
   "execution_count": 3,
   "id": "11cd7be5",
   "metadata": {
    "ExecuteTime": {
     "end_time": "2021-08-23T05:17:53.767240Z",
     "start_time": "2021-08-23T05:17:53.743411Z"
    }
   },
   "outputs": [],
   "source": [
    "def clean_text(text):\n",
    "    cleaned_text = re.sub('[^ ㄱ-ㅣ가-힣]+',' ',text) # 한국어, 스페이스바를 제외한 모든 문자 제거\n",
    "    cleaned_text = ' '.join(cleaned_text.split()) # 너무 많은 공백이 생기므로 공백 1개로\n",
    "    return cleaned_text\n",
    "\n",
    "def get_nouns(text):\n",
    "    okt = Okt() # 형태소 분석기\n",
    "    nouns = okt.nouns(text) # 명사 추출\n",
    "    nouns = [word for word in nouns if not (word in stopwords)] # 불용어 제거\n",
    "    nouns = [word for word in nouns if len(word)>1] # 길이가 1 이상만 추출\n",
    "    return nouns"
   ]
  },
  {
   "cell_type": "code",
   "execution_count": 4,
   "id": "322fa499",
   "metadata": {
    "ExecuteTime": {
     "end_time": "2021-08-23T05:17:53.843663Z",
     "start_time": "2021-08-23T05:17:53.819103Z"
    }
   },
   "outputs": [],
   "source": [
    "def clean_tokenizing(data):\n",
    "    data = data.dropna() # 결측값 제거\n",
    "    data['내용'] = data['내용'].apply(lambda x: clean_text(x)) # 한국어만 추출\n",
    "    data['명사'] = data['내용'].apply(lambda x: get_nouns(x)) # 명사만 추출\n",
    "    \n",
    "    drop_index_list = [] # 지워버릴 index를 담는 리스트\n",
    "    for i, row in data.iterrows():\n",
    "        temp_nouns = row['명사']\n",
    "        if len(temp_nouns) == 0: # 만약 명사리스트가 비어 있다면\n",
    "            drop_index_list.append(i) # 지울 index 추가\n",
    "    data = data.drop(drop_index_list) # 해당 index를 지우기\n",
    "    data.index = range(len(data))\n",
    "    return data"
   ]
  },
  {
   "cell_type": "code",
   "execution_count": 5,
   "id": "a473241d",
   "metadata": {
    "ExecuteTime": {
     "end_time": "2021-08-23T05:17:53.919727Z",
     "start_time": "2021-08-23T05:17:53.895411Z"
    }
   },
   "outputs": [],
   "source": [
    "def mk_tfidf(data):\n",
    "    cv = CountVectorizer(max_features=1000, tokenizer=get_nouns) # data의 tf-idf 구축, tokenizer로 get_nouns 사용\n",
    "    tdm = cv.fit_transform(data['내용']) # 위의 파라미터 수에 맞게 tdm 생성\n",
    "    dataset = pd.DataFrame(data=tdm.todense(),columns=cv.get_feature_names())\n",
    "    return dataset"
   ]
  },
  {
   "cell_type": "code",
   "execution_count": 6,
   "id": "5e34f3eb",
   "metadata": {
    "ExecuteTime": {
     "end_time": "2021-08-23T05:17:53.993039Z",
     "start_time": "2021-08-23T05:17:53.968944Z"
    }
   },
   "outputs": [],
   "source": [
    "def mk_input(tf_idf):\n",
    "    column_list = list(tf_idf.columns)\n",
    "    word_length = len(column_list)\n",
    "\n",
    "    # 각 단어쌍의 빈도수를 저장할 dictionary 생성\n",
    "    count_dict = {}\n",
    "\n",
    "    for doc_number in tqdm(range(len(tf_idf)), desc='단어쌍 만들기 진행중'):\n",
    "        tmp = tf_idf.loc[doc_number]           # 현재 문서의 단어 출현 빈도 데이터를 가져온다.\n",
    "        for i, word1 in enumerate(column_list):\n",
    "            if tmp[word1]:              # 현재 문서에 첫번째 단어가 존재할 경우\n",
    "                for j in range(i + 1, word_length):\n",
    "                    if tmp[column_list[j]]:              # 현재 문서에 두번째 단어가 존재할 경우\n",
    "                        count_dict[column_list[i], column_list[j]] = count_dict.get((column_list[i], column_list[j]), 0) + max(tmp[word1], tmp[column_list[j]])\n",
    "\n",
    "    # count_list에 word1, word2, frequency 형태로 저장할 것이다.\n",
    "    count_list = []\n",
    "\n",
    "    for words in count_dict:\n",
    "        count_list.append([words[0], words[1], count_dict[words]])\n",
    "\n",
    "    # 단어쌍 동시 출현 빈도를 DataFrame 형식으로 만든다.\n",
    "    df = pd.DataFrame(count_list, columns=[\"word1\", \"word2\", \"freq\"])\n",
    "    df = df.sort_values(by=['freq'], ascending=False)\n",
    "    df = df.reset_index(drop=True)\n",
    "    return df"
   ]
  },
  {
   "cell_type": "markdown",
   "id": "3b826ecb",
   "metadata": {},
   "source": [
    "감성사전에 따른 가중치 추가해야함"
   ]
  },
  {
   "cell_type": "code",
   "execution_count": 7,
   "id": "c5319ae8",
   "metadata": {
    "ExecuteTime": {
     "end_time": "2021-08-23T05:17:54.095908Z",
     "start_time": "2021-08-23T05:17:54.055374Z"
    }
   },
   "outputs": [],
   "source": [
    "def draw(df,sent, keywords, length):\n",
    "    # 폰트설정\n",
    "    font_family='NanumSquareRound'\n",
    "    print(keywords, length)\n",
    "    dataset = pd.DataFrame()\n",
    "    \n",
    "    # 데이터 셋에서 키워드 추출\n",
    "    for keyword in keywords:\n",
    "        dataset = pd.concat([dataset, df[df['word1']==keyword][:length]])\n",
    "    print(dataset)\n",
    "    G_centrality = nx.Graph()\n",
    "\n",
    "    # 데이터 셋에 관하여 엣지 추가\n",
    "    for ind in list(dataset.index):\n",
    "        G_centrality.add_edge(dataset['word1'][ind], dataset['word2'][ind], weight=int(dataset['freq'][ind]))\n",
    "\n",
    "    dgr = nx.degree_centrality(G_centrality)        # 연결 중심성\n",
    "    btw = nx.betweenness_centrality(G_centrality)   # 매개 중심성\n",
    "    cls = nx.closeness_centrality(G_centrality)     # 근접 중심성\n",
    "    egv = nx.eigenvector_centrality(G_centrality)   # 고유벡터 중심성\n",
    "    pgr = nx.pagerank(G_centrality)                 # 페이지 랭크\n",
    "\n",
    "    sorted_dgr = sorted(dgr.items(), key=operator.itemgetter(1), reverse=True)\n",
    "    sorted_btw = sorted(btw.items(), key=operator.itemgetter(1), reverse=True)\n",
    "    sorted_cls = sorted(cls.items(), key=operator.itemgetter(1), reverse=True)\n",
    "    sorted_egv = sorted(egv.items(), key=operator.itemgetter(1), reverse=True)\n",
    "    sorted_pgr = sorted(pgr.items(), key=operator.itemgetter(1), reverse=True)\n",
    "\n",
    "    G = nx.Graph()\n",
    "    \n",
    "    for i in range(len(sorted_pgr)): # 페이지 랭크에 따른 노드 추가, 노드 사이즈는 연결 중심성으로 결정\n",
    "        G.add_node(sorted_pgr[i][0], nodesize=sorted_dgr[i][1],color='r')\n",
    "\n",
    "    for ind in list(dataset.index): # 같이 나온 빈도수가 많을 수록 가까움\n",
    "        G.add_weighted_edges_from([(dataset['word1'][ind], dataset['word2'][ind], int(dataset['freq'][ind]))])\n",
    "        \n",
    "        \n",
    "    # 단어별 감성 점수 추출\n",
    "    words = list(G.nodes)\n",
    "    sent_points = []\n",
    "    word_points = {}\n",
    "    for word in words:\n",
    "        try: # 감성 사전에 단어가 있다면\n",
    "            sent_point = float(sent[sent['단어'] == word]['points'].values)\n",
    "            word_points[word] = sent_point\n",
    "            sent_points.append(sent_point)\n",
    "        except: # 감성 사전에 단어가 없다면 0점\n",
    "            word_points[word] = 0\n",
    "            sent_points.append(0) \n",
    "    \n",
    "\n",
    "    # 노드 크기 조정\n",
    "    sizes = [G.nodes[node]['nodesize'] * 5000+1000 for node in G] \n",
    "\n",
    "    # 옵션\n",
    "    options = {\n",
    "        'edge_color': '#000000',\n",
    "        'width': 1,\n",
    "        'with_labels': True,\n",
    "        'font_weight': 'regular',\n",
    "        'cmap' : 'jet',\n",
    "        'node_color' : sent_points,\n",
    "        'alpha' : 0.5\n",
    "    }\n",
    "\n",
    "\n",
    "    plt.figure(figsize=(10,10))\n",
    "    nx.draw(G, node_size=sizes,\n",
    "            pos=nx.spring_layout(G, k=3.5, iterations=100), **options, font_family=font_family)  # font_family로 폰트 등록\n",
    "    ax = plt.gca()\n",
    "    ax.collections[0].set_edgecolor(\"#555555\")\n",
    "    plt.show()\n",
    "    return word_points"
   ]
  },
  {
   "cell_type": "markdown",
   "id": "f28159d9",
   "metadata": {},
   "source": [
    "연관 출현 빈도 분석결과 저장시"
   ]
  },
  {
   "cell_type": "code",
   "execution_count": 23,
   "id": "fc1c0d43",
   "metadata": {
    "ExecuteTime": {
     "end_time": "2021-08-22T06:40:22.252642Z",
     "start_time": "2021-08-22T06:25:26.092587Z"
    }
   },
   "outputs": [
    {
     "name": "stderr",
     "output_type": "stream",
     "text": [
      "단어쌍 만들기 진행중: 100%|████████████████████████████████████████████████████████| 1105/1105 [10:33<00:00,  1.74it/s]\n"
     ]
    }
   ],
   "source": [
    "file_path='C:/Users/hyunsoo/study/ds_project/crawler/박채희/crawler/환경오염.csv' # 파일 수정필요\n",
    "stopwords_path = './data/stopwords.txt' # 불용어 파일 경로\n",
    "sent = pd.read_csv('./data/dict.csv',encoding='cp949') # 감성사전\n",
    "\n",
    "# 불용어 파일 읽어오기\n",
    "with open(stopwords_path,'r') as op:\n",
    "    stopwords = op.readlines()\n",
    "    stopwords = stopwords[0].split(',')\n",
    "\n",
    "# 데이터(친환경, 환경오염)본문 읽어오기\n",
    "data = pd.read_csv(file_path, encoding='cp949',index_col = 0)\n",
    "\n",
    "data = clean_tokenizing(data) # 데이터 정제, 명사 추출, 불용어 제거\n",
    "tf_idf = mk_tfidf(data) # tf-idf 구축\n",
    "words_freq = mk_input(tf_idf) # 시각화를 위한 빈도수 데이터셋 구축\n",
    "words_freq.to_csv('data/words_freq.csv',encoding='cp949')"
   ]
  },
  {
   "cell_type": "code",
   "execution_count": 2,
   "id": "33c5a914",
   "metadata": {
    "ExecuteTime": {
     "end_time": "2021-08-23T02:14:36.204183Z",
     "start_time": "2021-08-23T02:14:31.933247Z"
    }
   },
   "outputs": [],
   "source": [
    "words_freq = pd.read_csv('./data/words_freq.csv',encoding='cp949')\n",
    "sent = pd.read_csv('./data/dict.csv',encoding='cp949')"
   ]
  },
  {
   "cell_type": "code",
   "execution_count": 11,
   "id": "abaa2378",
   "metadata": {
    "ExecuteTime": {
     "end_time": "2021-08-23T02:17:10.327828Z",
     "start_time": "2021-08-23T02:17:09.654683Z"
    }
   },
   "outputs": [
    {
     "name": "stdout",
     "output_type": "stream",
     "text": [
      "['코인', '테슬라'] 20\n",
      "         Unnamed: 0 word1 word2  freq\n",
      "52633         52633    코인    화폐    56\n",
      "59643         59643   테슬라    환경    52\n",
      "66178         66178   테슬라  환경오염    48\n",
      "68538         68538   테슬라    현재    47\n",
      "73452         73452    코인    환경    45\n",
      "...             ...   ...   ...   ...\n",
      "2482639     2482639    코인  홈페이지     1\n",
      "2482640     2482640    코인    환기     1\n",
      "2482641     2482641    코인    훼손     1\n",
      "2482929     2482929   테슬라    풍력     1\n",
      "2482930     2482930   테슬라    흡수     1\n",
      "\n",
      "[216 rows x 4 columns]\n"
     ]
    },
    {
     "data": {
      "image/png": "[encoded data removed]",
      "text/plain": [
       "<Figure size 576x360 with 1 Axes>"
      ]
     },
     "metadata": {},
     "output_type": "display_data"
    },
    {
     "name": "stdout",
     "output_type": "stream",
     "text": [
      "{'테슬라': 0.0034647694741412, '코인': -0.4003071999232327, '화폐': 0, '환경': 0.0234662641354019, '환경오염': -1.0, '트위터': 0, '행보': 0, '투자자': 0, '현재': 0.1114123860276696, '평가': 0.1010959641487919, '효율': 0.0371234619324266, '프로젝트': 0.1534236028570561, '한국': 0.1626167059332343, '하락': 0, '해당': -0.0106338073469777}\n"
     ]
    }
   ],
   "source": [
    "print(draw(words_freq,['코인','테슬라'],20))"
   ]
  },
  {
   "cell_type": "markdown",
   "id": "6f354947",
   "metadata": {},
   "source": [
    "* * *"
   ]
  },
  {
   "cell_type": "markdown",
   "id": "9108d775",
   "metadata": {},
   "source": [
    "### 뉴스, 기사, sns를 따로 할 때"
   ]
  },
  {
   "cell_type": "code",
   "execution_count": 9,
   "id": "e637fc33",
   "metadata": {
    "ExecuteTime": {
     "end_time": "2021-08-23T05:19:38.229074Z",
     "start_time": "2021-08-23T05:19:38.196520Z"
    }
   },
   "outputs": [],
   "source": [
    "file_path='C:/Users/hyunsoo/study/ds_project/crawler/박채희/crawler/환경오염.csv' # 파일 수정필요\n",
    "stopwords_path = './data/stopwords.txt'\n",
    "sent = pd.read_csv('./data/dict.csv',encoding='cp949')\n",
    "with open(stopwords_path,'r') as op:\n",
    "    stopwords = op.readlines()\n",
    "    stopwords = stopwords[0].split(',')"
   ]
  },
  {
   "cell_type": "code",
   "execution_count": 18,
   "id": "12ad78cb",
   "metadata": {
    "ExecuteTime": {
     "end_time": "2021-08-23T05:07:54.681885Z",
     "start_time": "2021-08-23T04:52:32.662653Z"
    }
   },
   "outputs": [
    {
     "name": "stderr",
     "output_type": "stream",
     "text": [
      "<ipython-input-13-0fca09fa8b33>:3: SettingWithCopyWarning: \n",
      "A value is trying to be set on a copy of a slice from a DataFrame.\n",
      "Try using .loc[row_indexer,col_indexer] = value instead\n",
      "\n",
      "See the caveats in the documentation: https://pandas.pydata.org/pandas-docs/stable/user_guide/indexing.html#returning-a-view-versus-a-copy\n",
      "  data['내용'] = data['내용'].apply(lambda x: clean_text(x)) # 한국어만 추출\n",
      "<ipython-input-13-0fca09fa8b33>:4: SettingWithCopyWarning: \n",
      "A value is trying to be set on a copy of a slice from a DataFrame.\n",
      "Try using .loc[row_indexer,col_indexer] = value instead\n",
      "\n",
      "See the caveats in the documentation: https://pandas.pydata.org/pandas-docs/stable/user_guide/indexing.html#returning-a-view-versus-a-copy\n",
      "  data['명사'] = data['내용'].apply(lambda x: get_nouns(x)) # 명사만 추출\n",
      "단어쌍 만들기 진행중: 100%|████████████████████████████████████████████████████████| 1131/1131 [08:41<00:00,  2.17it/s]\n"
     ]
    }
   ],
   "source": [
    "#news_data = pd.read_csv(file_path, encoding='cp949',index_col = 0)\n",
    "news_data = clean_tokenizing(news)\n",
    "news_tf_idf = mk_tfidf(news_data)\n",
    "news_words_freq = mk_input(news_tf_idf)"
   ]
  },
  {
   "cell_type": "code",
   "execution_count": 20,
   "id": "c39921e7",
   "metadata": {
    "ExecuteTime": {
     "end_time": "2021-08-23T05:15:51.146381Z",
     "start_time": "2021-08-23T05:15:48.893071Z"
    }
   },
   "outputs": [],
   "source": [
    "news_words_freq.to_csv('news_words_freq.csv',encoding='cp949')"
   ]
  },
  {
   "cell_type": "code",
   "execution_count": 10,
   "id": "fa5e25be",
   "metadata": {
    "ExecuteTime": {
     "end_time": "2021-08-23T05:37:34.411582Z",
     "start_time": "2021-08-23T05:19:40.291357Z"
    }
   },
   "outputs": [
    {
     "name": "stderr",
     "output_type": "stream",
     "text": [
      "단어쌍 만들기 진행중: 100%|████████████████████████████████████████████████████████| 3022/3022 [08:05<00:00,  6.22it/s]\n"
     ]
    }
   ],
   "source": [
    "community = pd.concat([pd.read_csv('Data/친환경_community.csv',encoding='cp949'),pd.read_csv('Data/환경오염_community.csv')])\n",
    "community_data = clean_tokenizing(community)\n",
    "community_tf_idf = mk_tfidf(community_data)\n",
    "community_words_freq = mk_input(community_tf_idf)\n",
    "community_words_freq.to_csv('community_words_freq.csv',encoding='cp949')"
   ]
  },
  {
   "cell_type": "code",
   "execution_count": 11,
   "id": "9b47d8da",
   "metadata": {
    "ExecuteTime": {
     "end_time": "2021-08-23T05:46:33.732273Z",
     "start_time": "2021-08-23T05:43:34.699588Z"
    }
   },
   "outputs": [
    {
     "name": "stderr",
     "output_type": "stream",
     "text": [
      "<ipython-input-4-0fca09fa8b33>:3: SettingWithCopyWarning: \n",
      "A value is trying to be set on a copy of a slice from a DataFrame.\n",
      "Try using .loc[row_indexer,col_indexer] = value instead\n",
      "\n",
      "See the caveats in the documentation: https://pandas.pydata.org/pandas-docs/stable/user_guide/indexing.html#returning-a-view-versus-a-copy\n",
      "  data['내용'] = data['내용'].apply(lambda x: clean_text(x)) # 한국어만 추출\n",
      "<ipython-input-4-0fca09fa8b33>:4: SettingWithCopyWarning: \n",
      "A value is trying to be set on a copy of a slice from a DataFrame.\n",
      "Try using .loc[row_indexer,col_indexer] = value instead\n",
      "\n",
      "See the caveats in the documentation: https://pandas.pydata.org/pandas-docs/stable/user_guide/indexing.html#returning-a-view-versus-a-copy\n",
      "  data['명사'] = data['내용'].apply(lambda x: get_nouns(x)) # 명사만 추출\n",
      "단어쌍 만들기 진행중: 100%|██████████████████████████████████████████████████████████| 978/978 [01:12<00:00, 13.53it/s]\n"
     ]
    }
   ],
   "source": [
    "sns = pd.concat([pd.read_csv('Data/친환경_sns.csv'),pd.read_csv('Data/환경오염_sns.csv')])\n",
    "sns_data = clean_tokenizing(sns)\n",
    "sns_tf_idf = mk_tfidf(sns_data)\n",
    "sns_words_freq = mk_input(sns_tf_idf)\n",
    "sns_words_freq.to_csv('sns_words_freq.csv',encoding='cp949')"
   ]
  }
 ],
 "metadata": {
  "kernelspec": {
   "display_name": "Python 3",
   "language": "python",
   "name": "python3"
  },
  "language_info": {
   "codemirror_mode": {
    "name": "ipython",
    "version": 3
   },
   "file_extension": ".py",
   "mimetype": "text/x-python",
   "name": "python",
   "nbconvert_exporter": "python",
   "pygments_lexer": "ipython3",
   "version": "3.8.8"
  },
  "varInspector": {
   "cols": {
    "lenName": 16,
    "lenType": 16,
    "lenVar": 40
   },
   "kernels_config": {
    "python": {
     "delete_cmd_postfix": "",
     "delete_cmd_prefix": "del ",
     "library": "var_list.py",
     "varRefreshCmd": "print(var_dic_list())"
    },
    "r": {
     "delete_cmd_postfix": ") ",
     "delete_cmd_prefix": "rm(",
     "library": "var_list.r",
     "varRefreshCmd": "cat(var_dic_list()) "
    }
   },
   "types_to_exclude": [
    "module",
    "function",
    "builtin_function_or_method",
    "instance",
    "_Feature"
   ],
   "window_display": false
  }
 },
 "nbformat": 4,
 "nbformat_minor": 5
}
