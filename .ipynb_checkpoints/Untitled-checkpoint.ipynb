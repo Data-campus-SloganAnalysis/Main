{
 "cells": [
  {
   "cell_type": "code",
   "execution_count": 38,
   "metadata": {
    "ExecuteTime": {
     "end_time": "2021-08-23T05:02:24.814223Z",
     "start_time": "2021-08-23T05:02:23.950666Z"
    }
   },
   "outputs": [],
   "source": [
    "import pandas as pd\n",
    "import re"
   ]
  },
  {
   "cell_type": "code",
   "execution_count": 27,
   "metadata": {
    "ExecuteTime": {
     "end_time": "2021-08-23T05:02:54.716961Z",
     "start_time": "2021-08-23T05:02:49.818041Z"
    }
   },
   "outputs": [],
   "source": [
    "data = pd.read_csv('data.csv',encoding='utf-8')"
   ]
  },
  {
   "cell_type": "code",
   "execution_count": 28,
   "metadata": {},
   "outputs": [
    {
     "data": {
      "text/html": [
       "<div>\n",
       "<style scoped>\n",
       "    .dataframe tbody tr th:only-of-type {\n",
       "        vertical-align: middle;\n",
       "    }\n",
       "\n",
       "    .dataframe tbody tr th {\n",
       "        vertical-align: top;\n",
       "    }\n",
       "\n",
       "    .dataframe thead th {\n",
       "        text-align: right;\n",
       "    }\n",
       "</style>\n",
       "<table border=\"1\" class=\"dataframe\">\n",
       "  <thead>\n",
       "    <tr style=\"text-align: right;\">\n",
       "      <th></th>\n",
       "      <th>내용</th>\n",
       "      <th>label</th>\n",
       "    </tr>\n",
       "  </thead>\n",
       "  <tbody>\n",
       "    <tr>\n",
       "      <th>0</th>\n",
       "      <td>.년 .월 당시 한국환경기술개발원이 낸 .휴.폐광된 금속광산 지역의 오염 관리대책...</td>\n",
       "      <td>-1</td>\n",
       "    </tr>\n",
       "    <tr>\n",
       "      <th>1</th>\n",
       "      <td>광산 지역에서 . 떨어진 곳에서도 비소가 .배. 높았다</td>\n",
       "      <td>-1</td>\n",
       "    </tr>\n",
       "    <tr>\n",
       "      <th>2</th>\n",
       "      <td>안내판에 .영풍.이란 이름에 주목한 건 이 기업의 석포제련소 환경오염 문제 때문이다</td>\n",
       "      <td>-1</td>\n",
       "    </tr>\n",
       "    <tr>\n",
       "      <th>3</th>\n",
       "      <td>영풍광업은 .년 영양군 옆 봉화군 석포면 산골짜기에 이 제련소를 만들었다</td>\n",
       "      <td>0</td>\n",
       "    </tr>\n",
       "    <tr>\n",
       "      <th>4</th>\n",
       "      <td>.년에야 일대 환경오염 문제가 알려졌다</td>\n",
       "      <td>-1</td>\n",
       "    </tr>\n",
       "    <tr>\n",
       "      <th>...</th>\n",
       "      <td>...</td>\n",
       "      <td>...</td>\n",
       "    </tr>\n",
       "    <tr>\n",
       "      <th>14900</th>\n",
       "      <td>민주당은 앞서 열린 소위에선 한 차례도 수치 언급을 하지 않다가 강행처리 직전 열...</td>\n",
       "      <td>0</td>\n",
       "    </tr>\n",
       "    <tr>\n",
       "      <th>14901</th>\n",
       "      <td>. 탄소중립 달성 .의무. 아닌 .목표.로 수정 도 포함 법안에는 . 탄소중립이 ...</td>\n",
       "      <td>0</td>\n",
       "    </tr>\n",
       "    <tr>\n",
       "      <th>14902</th>\n",
       "      <td>민주당 이소영.이수진 정의당 강은미 의원이 발의한 안에는 .달성하여야 한다</td>\n",
       "      <td>0</td>\n",
       "    </tr>\n",
       "    <tr>\n",
       "      <th>14903</th>\n",
       "      <td>는 의무로 제시됐던 것이 검토 과정에서 수정된 것이다</td>\n",
       "      <td>0</td>\n",
       "    </tr>\n",
       "    <tr>\n",
       "      <th>14904</th>\n",
       "      <td>국민의힘 임이자 의원안에만 있던 탄소포집.저장.활용기술 활용을 위한 법적 근거도 ...</td>\n",
       "      <td>0</td>\n",
       "    </tr>\n",
       "  </tbody>\n",
       "</table>\n",
       "<p>14905 rows × 2 columns</p>\n",
       "</div>"
      ],
      "text/plain": [
       "                                                      내용 label\n",
       "0       .년 .월 당시 한국환경기술개발원이 낸 .휴.폐광된 금속광산 지역의 오염 관리대책...    -1\n",
       "1                         광산 지역에서 . 떨어진 곳에서도 비소가 .배. 높았다    -1\n",
       "2         안내판에 .영풍.이란 이름에 주목한 건 이 기업의 석포제련소 환경오염 문제 때문이다    -1\n",
       "3               영풍광업은 .년 영양군 옆 봉화군 석포면 산골짜기에 이 제련소를 만들었다     0\n",
       "4                                  .년에야 일대 환경오염 문제가 알려졌다    -1\n",
       "...                                                  ...   ...\n",
       "14900   민주당은 앞서 열린 소위에선 한 차례도 수치 언급을 하지 않다가 강행처리 직전 열...     0\n",
       "14901   . 탄소중립 달성 .의무. 아닌 .목표.로 수정 도 포함 법안에는 . 탄소중립이 ...     0\n",
       "14902          민주당 이소영.이수진 정의당 강은미 의원이 발의한 안에는 .달성하여야 한다     0\n",
       "14903                      는 의무로 제시됐던 것이 검토 과정에서 수정된 것이다     0\n",
       "14904   국민의힘 임이자 의원안에만 있던 탄소포집.저장.활용기술 활용을 위한 법적 근거도 ...     0\n",
       "\n",
       "[14905 rows x 2 columns]"
      ]
     },
     "execution_count": 28,
     "metadata": {},
     "output_type": "execute_result"
    }
   ],
   "source": [
    "data"
   ]
  },
  {
   "cell_type": "code",
   "execution_count": 29,
   "metadata": {},
   "outputs": [],
   "source": [
    "t=len(data)"
   ]
  },
  {
   "cell_type": "code",
   "execution_count": 14,
   "metadata": {},
   "outputs": [
    {
     "data": {
      "text/html": [
       "<div>\n",
       "<style scoped>\n",
       "    .dataframe tbody tr th:only-of-type {\n",
       "        vertical-align: middle;\n",
       "    }\n",
       "\n",
       "    .dataframe tbody tr th {\n",
       "        vertical-align: top;\n",
       "    }\n",
       "\n",
       "    .dataframe thead th {\n",
       "        text-align: right;\n",
       "    }\n",
       "</style>\n",
       "<table border=\"1\" class=\"dataframe\">\n",
       "  <thead>\n",
       "    <tr style=\"text-align: right;\">\n",
       "      <th></th>\n",
       "      <th>내용</th>\n",
       "      <th>label</th>\n",
       "    </tr>\n",
       "  </thead>\n",
       "  <tbody>\n",
       "    <tr>\n",
       "      <th>0</th>\n",
       "      <td>.년 .월 당시 한국환경기술개발원이 낸 .휴.폐광된 금속광산 지역의 오염 관리대책...</td>\n",
       "      <td>-1</td>\n",
       "    </tr>\n",
       "    <tr>\n",
       "      <th>1</th>\n",
       "      <td>광산 지역에서 . 떨어진 곳에서도 비소가 .배. 높았다</td>\n",
       "      <td>-1</td>\n",
       "    </tr>\n",
       "    <tr>\n",
       "      <th>2</th>\n",
       "      <td>안내판에 .영풍.이란 이름에 주목한 건 이 기업의 석포제련소 환경오염 문제 때문이다</td>\n",
       "      <td>-1</td>\n",
       "    </tr>\n",
       "    <tr>\n",
       "      <th>3</th>\n",
       "      <td>영풍광업은 .년 영양군 옆 봉화군 석포면 산골짜기에 이 제련소를 만들었다</td>\n",
       "      <td>0</td>\n",
       "    </tr>\n",
       "    <tr>\n",
       "      <th>4</th>\n",
       "      <td>.년에야 일대 환경오염 문제가 알려졌다</td>\n",
       "      <td>-1</td>\n",
       "    </tr>\n",
       "    <tr>\n",
       "      <th>...</th>\n",
       "      <td>...</td>\n",
       "      <td>...</td>\n",
       "    </tr>\n",
       "    <tr>\n",
       "      <th>11261</th>\n",
       "      <td>국가 간 장벽은 전례 없이 높아졌다</td>\n",
       "      <td>0</td>\n",
       "    </tr>\n",
       "    <tr>\n",
       "      <th>11262</th>\n",
       "      <td>세계화는 벼랑 끝에 내몰렸다</td>\n",
       "      <td>0</td>\n",
       "    </tr>\n",
       "    <tr>\n",
       "      <th>11804</th>\n",
       "      <td>20201020 1957내 생에 이런 친환경돌은 처음이야짱클리덕에 나도 지구를 위하...</td>\n",
       "      <td>0</td>\n",
       "    </tr>\n",
       "    <tr>\n",
       "      <th>11824</th>\n",
       "      <td>자연까지 생각하는 무라벨 삼다수 우린 이걸 합법적인 친환경 다이어트라 부르기로 했어...</td>\n",
       "      <td>0</td>\n",
       "    </tr>\n",
       "    <tr>\n",
       "      <th>12479</th>\n",
       "      <td>한국생산기술연구원, 충남 중소∙중견기업 대상 일자리창출 지원사업 시행</td>\n",
       "      <td>0</td>\n",
       "    </tr>\n",
       "  </tbody>\n",
       "</table>\n",
       "<p>8530 rows × 2 columns</p>\n",
       "</div>"
      ],
      "text/plain": [
       "                                                      내용 label\n",
       "0       .년 .월 당시 한국환경기술개발원이 낸 .휴.폐광된 금속광산 지역의 오염 관리대책...    -1\n",
       "1                         광산 지역에서 . 떨어진 곳에서도 비소가 .배. 높았다    -1\n",
       "2         안내판에 .영풍.이란 이름에 주목한 건 이 기업의 석포제련소 환경오염 문제 때문이다    -1\n",
       "3               영풍광업은 .년 영양군 옆 봉화군 석포면 산골짜기에 이 제련소를 만들었다     0\n",
       "4                                  .년에야 일대 환경오염 문제가 알려졌다    -1\n",
       "...                                                  ...   ...\n",
       "11261                                국가 간 장벽은 전례 없이 높아졌다     0\n",
       "11262                                    세계화는 벼랑 끝에 내몰렸다     0\n",
       "11804  20201020 1957내 생에 이런 친환경돌은 처음이야짱클리덕에 나도 지구를 위하...     0\n",
       "11824  자연까지 생각하는 무라벨 삼다수 우린 이걸 합법적인 친환경 다이어트라 부르기로 했어...     0\n",
       "12479             한국생산기술연구원, 충남 중소∙중견기업 대상 일자리창출 지원사업 시행     0\n",
       "\n",
       "[8530 rows x 2 columns]"
      ]
     },
     "execution_count": 14,
     "metadata": {},
     "output_type": "execute_result"
    }
   ],
   "source": [
    "data.drop_duplicates(['내용'])"
   ]
  },
  {
   "cell_type": "code",
   "execution_count": 33,
   "metadata": {},
   "outputs": [],
   "source": [
    "data= data[data['label']!='0']"
   ]
  },
  {
   "cell_type": "code",
   "execution_count": 34,
   "metadata": {},
   "outputs": [
    {
     "data": {
      "text/html": [
       "<div>\n",
       "<style scoped>\n",
       "    .dataframe tbody tr th:only-of-type {\n",
       "        vertical-align: middle;\n",
       "    }\n",
       "\n",
       "    .dataframe tbody tr th {\n",
       "        vertical-align: top;\n",
       "    }\n",
       "\n",
       "    .dataframe thead th {\n",
       "        text-align: right;\n",
       "    }\n",
       "</style>\n",
       "<table border=\"1\" class=\"dataframe\">\n",
       "  <thead>\n",
       "    <tr style=\"text-align: right;\">\n",
       "      <th></th>\n",
       "      <th>내용</th>\n",
       "      <th>label</th>\n",
       "    </tr>\n",
       "  </thead>\n",
       "  <tbody>\n",
       "    <tr>\n",
       "      <th>0</th>\n",
       "      <td>.년 .월 당시 한국환경기술개발원이 낸 .휴.폐광된 금속광산 지역의 오염 관리대책...</td>\n",
       "      <td>-1</td>\n",
       "    </tr>\n",
       "    <tr>\n",
       "      <th>1</th>\n",
       "      <td>광산 지역에서 . 떨어진 곳에서도 비소가 .배. 높았다</td>\n",
       "      <td>-1</td>\n",
       "    </tr>\n",
       "    <tr>\n",
       "      <th>2</th>\n",
       "      <td>안내판에 .영풍.이란 이름에 주목한 건 이 기업의 석포제련소 환경오염 문제 때문이다</td>\n",
       "      <td>-1</td>\n",
       "    </tr>\n",
       "    <tr>\n",
       "      <th>4</th>\n",
       "      <td>.년에야 일대 환경오염 문제가 알려졌다</td>\n",
       "      <td>-1</td>\n",
       "    </tr>\n",
       "    <tr>\n",
       "      <th>26</th>\n",
       "      <td>오지는 청정 자연 공간의 다른 이름이다</td>\n",
       "      <td>1</td>\n",
       "    </tr>\n",
       "    <tr>\n",
       "      <th>...</th>\n",
       "      <td>...</td>\n",
       "      <td>...</td>\n",
       "    </tr>\n",
       "    <tr>\n",
       "      <th>14871</th>\n",
       "      <td>화석연료를 기반으로 한 우리나라 경제.산업구조에서 탄소중립 이라는 목표를 달성하기...</td>\n",
       "      <td>-1</td>\n",
       "    </tr>\n",
       "    <tr>\n",
       "      <th>14873</th>\n",
       "      <td>탄소중립과 경제성장은 근본적으로 양립하기 어려운 개념이다</td>\n",
       "      <td>-1</td>\n",
       "    </tr>\n",
       "    <tr>\n",
       "      <th>14877</th>\n",
       "      <td>제명에 .녹색.이 붙긴 했지만 .경제성장을 위한 수단으로서의 친환경기술.을 강조한다</td>\n",
       "      <td>1</td>\n",
       "    </tr>\n",
       "    <tr>\n",
       "      <th>14878</th>\n",
       "      <td>현재 전세계적으로 논의되는 탄소중립과는 거리가 먼 .성장 전략.에 가깝다</td>\n",
       "      <td>-1</td>\n",
       "    </tr>\n",
       "    <tr>\n",
       "      <th>14891</th>\n",
       "      <td>비록 .최저 기준.이라고는 하지만 이런 기준은 . 탄소중립 목표를 달성하기엔 부족...</td>\n",
       "      <td>-1</td>\n",
       "    </tr>\n",
       "  </tbody>\n",
       "</table>\n",
       "<p>4835 rows × 2 columns</p>\n",
       "</div>"
      ],
      "text/plain": [
       "                                                      내용 label\n",
       "0       .년 .월 당시 한국환경기술개발원이 낸 .휴.폐광된 금속광산 지역의 오염 관리대책...    -1\n",
       "1                         광산 지역에서 . 떨어진 곳에서도 비소가 .배. 높았다    -1\n",
       "2         안내판에 .영풍.이란 이름에 주목한 건 이 기업의 석포제련소 환경오염 문제 때문이다    -1\n",
       "4                                  .년에야 일대 환경오염 문제가 알려졌다    -1\n",
       "26                                 오지는 청정 자연 공간의 다른 이름이다     1\n",
       "...                                                  ...   ...\n",
       "14871   화석연료를 기반으로 한 우리나라 경제.산업구조에서 탄소중립 이라는 목표를 달성하기...    -1\n",
       "14873                    탄소중립과 경제성장은 근본적으로 양립하기 어려운 개념이다    -1\n",
       "14877     제명에 .녹색.이 붙긴 했지만 .경제성장을 위한 수단으로서의 친환경기술.을 강조한다     1\n",
       "14878           현재 전세계적으로 논의되는 탄소중립과는 거리가 먼 .성장 전략.에 가깝다    -1\n",
       "14891   비록 .최저 기준.이라고는 하지만 이런 기준은 . 탄소중립 목표를 달성하기엔 부족...    -1\n",
       "\n",
       "[4835 rows x 2 columns]"
      ]
     },
     "execution_count": 34,
     "metadata": {},
     "output_type": "execute_result"
    }
   ],
   "source": [
    "data"
   ]
  },
  {
   "cell_type": "code",
   "execution_count": 36,
   "metadata": {},
   "outputs": [],
   "source": [
    "def clean_text(text):\n",
    "    cleaned_text = re.sub('[^ ㄱ-ㅣ가-힣]+',' ',text) # 한국어, 스페이스바를 제외한 모든 문자 제거\n",
    "    cleaned_text = ' '.join(cleaned_text.split()) # 너무 많은 공백이 생기므로 공백 1개로\n",
    "    return cleaned_text"
   ]
  },
  {
   "cell_type": "code",
   "execution_count": 39,
   "metadata": {},
   "outputs": [
    {
     "name": "stderr",
     "output_type": "stream",
     "text": [
      "C:\\Users\\chaeh\\anaconda3\\lib\\site-packages\\ipykernel_launcher.py:1: SettingWithCopyWarning: \n",
      "A value is trying to be set on a copy of a slice from a DataFrame.\n",
      "Try using .loc[row_indexer,col_indexer] = value instead\n",
      "\n",
      "See the caveats in the documentation: https://pandas.pydata.org/pandas-docs/stable/user_guide/indexing.html#returning-a-view-versus-a-copy\n",
      "  \"\"\"Entry point for launching an IPython kernel.\n"
     ]
    }
   ],
   "source": [
    "data['내용']=data['내용'].apply(lambda x:clean_text(str(x)))"
   ]
  },
  {
   "cell_type": "code",
   "execution_count": 40,
   "metadata": {},
   "outputs": [],
   "source": [
    "data.to_csv('labeling_data.csv',encoding='cp949')"
   ]
  }
 ],
 "metadata": {
  "kernelspec": {
   "display_name": "Python 3",
   "language": "python",
   "name": "python3"
  },
  "language_info": {
   "codemirror_mode": {
    "name": "ipython",
    "version": 3
   },
   "file_extension": ".py",
   "mimetype": "text/x-python",
   "name": "python",
   "nbconvert_exporter": "python",
   "pygments_lexer": "ipython3",
   "version": "3.7.9"
  },
  "varInspector": {
   "cols": {
    "lenName": 16,
    "lenType": 16,
    "lenVar": 40
   },
   "kernels_config": {
    "python": {
     "delete_cmd_postfix": "",
     "delete_cmd_prefix": "del ",
     "library": "var_list.py",
     "varRefreshCmd": "print(var_dic_list())"
    },
    "r": {
     "delete_cmd_postfix": ") ",
     "delete_cmd_prefix": "rm(",
     "library": "var_list.r",
     "varRefreshCmd": "cat(var_dic_list()) "
    }
   },
   "types_to_exclude": [
    "module",
    "function",
    "builtin_function_or_method",
    "instance",
    "_Feature"
   ],
   "window_display": false
  }
 },
 "nbformat": 4,
 "nbformat_minor": 5
}
