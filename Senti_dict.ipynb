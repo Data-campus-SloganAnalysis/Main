{
 "cells": [
  {
   "cell_type": "code",
   "execution_count": 1,
   "id": "9174deca",
   "metadata": {
    "ExecuteTime": {
     "end_time": "2021-08-23T07:26:03.375708Z",
     "start_time": "2021-08-23T07:25:59.538978Z"
    }
   },
   "outputs": [],
   "source": [
    "import pandas as pd\n",
    "import re\n",
    "\n",
    "from konlpy.tag import Okt\n",
    "from sklearn.feature_extraction.text import TfidfVectorizer\n",
    "from sklearn.model_selection import train_test_split\n",
    "\n",
    "from sklearn.linear_model import LogisticRegressionCV\n",
    "\n",
    "from sklearn.metrics import accuracy_score"
   ]
  },
  {
   "cell_type": "code",
   "execution_count": 50,
   "id": "098c1e5b",
   "metadata": {
    "ExecuteTime": {
     "end_time": "2021-08-23T07:47:21.001883Z",
     "start_time": "2021-08-23T07:47:20.962419Z"
    }
   },
   "outputs": [],
   "source": [
    "data = pd.read_csv('./Data/labeling_data.csv',encoding='cp949')"
   ]
  },
  {
   "cell_type": "markdown",
   "id": "908cdb80",
   "metadata": {},
   "source": [
    "## 불용어 파일 가져오기"
   ]
  },
  {
   "cell_type": "code",
   "execution_count": 51,
   "id": "d1a48937",
   "metadata": {
    "ExecuteTime": {
     "end_time": "2021-08-23T07:47:21.811640Z",
     "start_time": "2021-08-23T07:47:21.788166Z"
    }
   },
   "outputs": [],
   "source": [
    "file_path = './data/stopwords.txt'\n",
    "with open(file_path,'r') as op:\n",
    "    stopwords = op.readlines()\n",
    "    stopwords = stopwords[0].split(',')"
   ]
  },
  {
   "cell_type": "markdown",
   "id": "6a224559",
   "metadata": {},
   "source": [
    "## 감성 사전 구축을 위한 tf-idf 구축"
   ]
  },
  {
   "cell_type": "markdown",
   "id": "7ab6f374",
   "metadata": {},
   "source": [
    "### 단어 추출을 위한 tokenizer  \n",
    "불용어 제거, 명사만 추출"
   ]
  },
  {
   "cell_type": "code",
   "execution_count": 52,
   "id": "9089f248",
   "metadata": {
    "ExecuteTime": {
     "end_time": "2021-08-23T07:47:22.811951Z",
     "start_time": "2021-08-23T07:47:22.794145Z"
    }
   },
   "outputs": [],
   "source": [
    "okt = Okt()\n",
    "def tokenizer(text):\n",
    "    re.sub('[\\W]',' ',text)\n",
    "    result = []\n",
    "    token_pos = okt.pos(text)\n",
    "    for word, pos in token_pos:\n",
    "        if (pos == 'Noun') and not(word in stopwords):\n",
    "            result.append(word)\n",
    "    return result"
   ]
  },
  {
   "cell_type": "markdown",
   "id": "40566c0b",
   "metadata": {},
   "source": [
    "tf-idf 구축"
   ]
  },
  {
   "cell_type": "code",
   "execution_count": 53,
   "id": "5317554e",
   "metadata": {
    "ExecuteTime": {
     "end_time": "2021-08-23T07:47:39.082358Z",
     "start_time": "2021-08-23T07:47:23.616763Z"
    }
   },
   "outputs": [],
   "source": [
    "x = data['내용'].astype('str')\n",
    "y = data['label']\n",
    "\n",
    "tfidf = TfidfVectorizer(max_features=1000,tokenizer=tokenizer)\n",
    "x_tdm = tfidf.fit_transform(x)"
   ]
  },
  {
   "cell_type": "code",
   "execution_count": 63,
   "id": "954ddb26",
   "metadata": {
    "ExecuteTime": {
     "end_time": "2021-08-23T07:50:58.141391Z",
     "start_time": "2021-08-23T07:50:58.126201Z"
    }
   },
   "outputs": [],
   "source": [
    "tmp= data[data['label']=='1']\n",
    "tmp2 = data[data['label']=='-1']\n",
    "tmp = pd.concat([tmp,tmp2])"
   ]
  },
  {
   "cell_type": "code",
   "execution_count": 67,
   "id": "e897dfc8",
   "metadata": {
    "ExecuteTime": {
     "end_time": "2021-08-23T07:51:24.143463Z",
     "start_time": "2021-08-23T07:51:24.099611Z"
    }
   },
   "outputs": [],
   "source": [
    "tmp.to_csv('./Data/labeling_data.csv',encoding='cp949')"
   ]
  },
  {
   "cell_type": "markdown",
   "id": "f385acd8",
   "metadata": {},
   "source": [
    "## Logistic Regression"
   ]
  },
  {
   "cell_type": "code",
   "execution_count": 18,
   "id": "cd382c84",
   "metadata": {
    "ExecuteTime": {
     "end_time": "2021-08-23T07:34:50.175315Z",
     "start_time": "2021-08-23T07:34:50.156333Z"
    }
   },
   "outputs": [
    {
     "ename": "ValueError",
     "evalue": "Input contains NaN",
     "output_type": "error",
     "traceback": [
      "\u001b[1;31m---------------------------------------------------------------------------\u001b[0m",
      "\u001b[1;31mValueError\u001b[0m                                Traceback (most recent call last)",
      "\u001b[1;32m<ipython-input-18-6eccbaa0df4c>\u001b[0m in \u001b[0;36m<module>\u001b[1;34m\u001b[0m\n\u001b[0;32m      4\u001b[0m \u001b[1;33m\u001b[0m\u001b[0m\n\u001b[0;32m      5\u001b[0m \u001b[0mlr_clf\u001b[0m \u001b[1;33m=\u001b[0m \u001b[0mLogisticRegressionCV\u001b[0m\u001b[1;33m(\u001b[0m\u001b[0mmax_iter\u001b[0m\u001b[1;33m=\u001b[0m\u001b[1;36m1000\u001b[0m\u001b[1;33m)\u001b[0m\u001b[1;33m\u001b[0m\u001b[1;33m\u001b[0m\u001b[0m\n\u001b[1;32m----> 6\u001b[1;33m \u001b[0mlr_clf\u001b[0m\u001b[1;33m.\u001b[0m\u001b[0mfit\u001b[0m\u001b[1;33m(\u001b[0m\u001b[0mx_train\u001b[0m\u001b[1;33m,\u001b[0m\u001b[0my_train\u001b[0m\u001b[1;33m)\u001b[0m\u001b[1;33m\u001b[0m\u001b[1;33m\u001b[0m\u001b[0m\n\u001b[0m\u001b[0;32m      7\u001b[0m \u001b[1;33m\u001b[0m\u001b[0m\n\u001b[0;32m      8\u001b[0m \u001b[0mpred\u001b[0m \u001b[1;33m=\u001b[0m\u001b[0mlr_clf\u001b[0m\u001b[1;33m.\u001b[0m\u001b[0mpredict\u001b[0m\u001b[1;33m(\u001b[0m\u001b[0mx_test\u001b[0m\u001b[1;33m)\u001b[0m\u001b[1;33m\u001b[0m\u001b[1;33m\u001b[0m\u001b[0m\n",
      "\u001b[1;32mC:\\python_anaconda3\\lib\\site-packages\\sklearn\\linear_model\\_logistic.py\u001b[0m in \u001b[0;36mfit\u001b[1;34m(self, X, y, sample_weight)\u001b[0m\n\u001b[0;32m   1817\u001b[0m             )\n\u001b[0;32m   1818\u001b[0m \u001b[1;33m\u001b[0m\u001b[0m\n\u001b[1;32m-> 1819\u001b[1;33m         X, y = self._validate_data(X, y, accept_sparse='csr', dtype=np.float64,\n\u001b[0m\u001b[0;32m   1820\u001b[0m                                    \u001b[0morder\u001b[0m\u001b[1;33m=\u001b[0m\u001b[1;34m\"C\"\u001b[0m\u001b[1;33m,\u001b[0m\u001b[1;33m\u001b[0m\u001b[1;33m\u001b[0m\u001b[0m\n\u001b[0;32m   1821\u001b[0m                                    accept_large_sparse=solver != 'liblinear')\n",
      "\u001b[1;32mC:\\python_anaconda3\\lib\\site-packages\\sklearn\\base.py\u001b[0m in \u001b[0;36m_validate_data\u001b[1;34m(self, X, y, reset, validate_separately, **check_params)\u001b[0m\n\u001b[0;32m    431\u001b[0m                 \u001b[0my\u001b[0m \u001b[1;33m=\u001b[0m \u001b[0mcheck_array\u001b[0m\u001b[1;33m(\u001b[0m\u001b[0my\u001b[0m\u001b[1;33m,\u001b[0m \u001b[1;33m**\u001b[0m\u001b[0mcheck_y_params\u001b[0m\u001b[1;33m)\u001b[0m\u001b[1;33m\u001b[0m\u001b[1;33m\u001b[0m\u001b[0m\n\u001b[0;32m    432\u001b[0m             \u001b[1;32melse\u001b[0m\u001b[1;33m:\u001b[0m\u001b[1;33m\u001b[0m\u001b[1;33m\u001b[0m\u001b[0m\n\u001b[1;32m--> 433\u001b[1;33m                 \u001b[0mX\u001b[0m\u001b[1;33m,\u001b[0m \u001b[0my\u001b[0m \u001b[1;33m=\u001b[0m \u001b[0mcheck_X_y\u001b[0m\u001b[1;33m(\u001b[0m\u001b[0mX\u001b[0m\u001b[1;33m,\u001b[0m \u001b[0my\u001b[0m\u001b[1;33m,\u001b[0m \u001b[1;33m**\u001b[0m\u001b[0mcheck_params\u001b[0m\u001b[1;33m)\u001b[0m\u001b[1;33m\u001b[0m\u001b[1;33m\u001b[0m\u001b[0m\n\u001b[0m\u001b[0;32m    434\u001b[0m             \u001b[0mout\u001b[0m \u001b[1;33m=\u001b[0m \u001b[0mX\u001b[0m\u001b[1;33m,\u001b[0m \u001b[0my\u001b[0m\u001b[1;33m\u001b[0m\u001b[1;33m\u001b[0m\u001b[0m\n\u001b[0;32m    435\u001b[0m \u001b[1;33m\u001b[0m\u001b[0m\n",
      "\u001b[1;32mC:\\python_anaconda3\\lib\\site-packages\\sklearn\\utils\\validation.py\u001b[0m in \u001b[0;36minner_f\u001b[1;34m(*args, **kwargs)\u001b[0m\n\u001b[0;32m     61\u001b[0m             \u001b[0mextra_args\u001b[0m \u001b[1;33m=\u001b[0m \u001b[0mlen\u001b[0m\u001b[1;33m(\u001b[0m\u001b[0margs\u001b[0m\u001b[1;33m)\u001b[0m \u001b[1;33m-\u001b[0m \u001b[0mlen\u001b[0m\u001b[1;33m(\u001b[0m\u001b[0mall_args\u001b[0m\u001b[1;33m)\u001b[0m\u001b[1;33m\u001b[0m\u001b[1;33m\u001b[0m\u001b[0m\n\u001b[0;32m     62\u001b[0m             \u001b[1;32mif\u001b[0m \u001b[0mextra_args\u001b[0m \u001b[1;33m<=\u001b[0m \u001b[1;36m0\u001b[0m\u001b[1;33m:\u001b[0m\u001b[1;33m\u001b[0m\u001b[1;33m\u001b[0m\u001b[0m\n\u001b[1;32m---> 63\u001b[1;33m                 \u001b[1;32mreturn\u001b[0m \u001b[0mf\u001b[0m\u001b[1;33m(\u001b[0m\u001b[1;33m*\u001b[0m\u001b[0margs\u001b[0m\u001b[1;33m,\u001b[0m \u001b[1;33m**\u001b[0m\u001b[0mkwargs\u001b[0m\u001b[1;33m)\u001b[0m\u001b[1;33m\u001b[0m\u001b[1;33m\u001b[0m\u001b[0m\n\u001b[0m\u001b[0;32m     64\u001b[0m \u001b[1;33m\u001b[0m\u001b[0m\n\u001b[0;32m     65\u001b[0m             \u001b[1;31m# extra_args > 0\u001b[0m\u001b[1;33m\u001b[0m\u001b[1;33m\u001b[0m\u001b[1;33m\u001b[0m\u001b[0m\n",
      "\u001b[1;32mC:\\python_anaconda3\\lib\\site-packages\\sklearn\\utils\\validation.py\u001b[0m in \u001b[0;36mcheck_X_y\u001b[1;34m(X, y, accept_sparse, accept_large_sparse, dtype, order, copy, force_all_finite, ensure_2d, allow_nd, multi_output, ensure_min_samples, ensure_min_features, y_numeric, estimator)\u001b[0m\n\u001b[0;32m    825\u001b[0m     \u001b[1;32melse\u001b[0m\u001b[1;33m:\u001b[0m\u001b[1;33m\u001b[0m\u001b[1;33m\u001b[0m\u001b[0m\n\u001b[0;32m    826\u001b[0m         \u001b[0my\u001b[0m \u001b[1;33m=\u001b[0m \u001b[0mcolumn_or_1d\u001b[0m\u001b[1;33m(\u001b[0m\u001b[0my\u001b[0m\u001b[1;33m,\u001b[0m \u001b[0mwarn\u001b[0m\u001b[1;33m=\u001b[0m\u001b[1;32mTrue\u001b[0m\u001b[1;33m)\u001b[0m\u001b[1;33m\u001b[0m\u001b[1;33m\u001b[0m\u001b[0m\n\u001b[1;32m--> 827\u001b[1;33m         \u001b[0m_assert_all_finite\u001b[0m\u001b[1;33m(\u001b[0m\u001b[0my\u001b[0m\u001b[1;33m)\u001b[0m\u001b[1;33m\u001b[0m\u001b[1;33m\u001b[0m\u001b[0m\n\u001b[0m\u001b[0;32m    828\u001b[0m     \u001b[1;32mif\u001b[0m \u001b[0my_numeric\u001b[0m \u001b[1;32mand\u001b[0m \u001b[0my\u001b[0m\u001b[1;33m.\u001b[0m\u001b[0mdtype\u001b[0m\u001b[1;33m.\u001b[0m\u001b[0mkind\u001b[0m \u001b[1;33m==\u001b[0m \u001b[1;34m'O'\u001b[0m\u001b[1;33m:\u001b[0m\u001b[1;33m\u001b[0m\u001b[1;33m\u001b[0m\u001b[0m\n\u001b[0;32m    829\u001b[0m         \u001b[0my\u001b[0m \u001b[1;33m=\u001b[0m \u001b[0my\u001b[0m\u001b[1;33m.\u001b[0m\u001b[0mastype\u001b[0m\u001b[1;33m(\u001b[0m\u001b[0mnp\u001b[0m\u001b[1;33m.\u001b[0m\u001b[0mfloat64\u001b[0m\u001b[1;33m)\u001b[0m\u001b[1;33m\u001b[0m\u001b[1;33m\u001b[0m\u001b[0m\n",
      "\u001b[1;32mC:\\python_anaconda3\\lib\\site-packages\\sklearn\\utils\\validation.py\u001b[0m in \u001b[0;36m_assert_all_finite\u001b[1;34m(X, allow_nan, msg_dtype)\u001b[0m\n\u001b[0;32m    109\u001b[0m     \u001b[1;32melif\u001b[0m \u001b[0mX\u001b[0m\u001b[1;33m.\u001b[0m\u001b[0mdtype\u001b[0m \u001b[1;33m==\u001b[0m \u001b[0mnp\u001b[0m\u001b[1;33m.\u001b[0m\u001b[0mdtype\u001b[0m\u001b[1;33m(\u001b[0m\u001b[1;34m'object'\u001b[0m\u001b[1;33m)\u001b[0m \u001b[1;32mand\u001b[0m \u001b[1;32mnot\u001b[0m \u001b[0mallow_nan\u001b[0m\u001b[1;33m:\u001b[0m\u001b[1;33m\u001b[0m\u001b[1;33m\u001b[0m\u001b[0m\n\u001b[0;32m    110\u001b[0m         \u001b[1;32mif\u001b[0m \u001b[0m_object_dtype_isnan\u001b[0m\u001b[1;33m(\u001b[0m\u001b[0mX\u001b[0m\u001b[1;33m)\u001b[0m\u001b[1;33m.\u001b[0m\u001b[0many\u001b[0m\u001b[1;33m(\u001b[0m\u001b[1;33m)\u001b[0m\u001b[1;33m:\u001b[0m\u001b[1;33m\u001b[0m\u001b[1;33m\u001b[0m\u001b[0m\n\u001b[1;32m--> 111\u001b[1;33m             \u001b[1;32mraise\u001b[0m \u001b[0mValueError\u001b[0m\u001b[1;33m(\u001b[0m\u001b[1;34m\"Input contains NaN\"\u001b[0m\u001b[1;33m)\u001b[0m\u001b[1;33m\u001b[0m\u001b[1;33m\u001b[0m\u001b[0m\n\u001b[0m\u001b[0;32m    112\u001b[0m \u001b[1;33m\u001b[0m\u001b[0m\n\u001b[0;32m    113\u001b[0m \u001b[1;33m\u001b[0m\u001b[0m\n",
      "\u001b[1;31mValueError\u001b[0m: Input contains NaN"
     ]
    }
   ],
   "source": [
    "x_train, x_test, y_train, y_test = train_test_split(x_tdm,y,\n",
    "                                                   test_size=0.3,\n",
    "                                                   random_state=42)\n",
    "\n",
    "lr_clf = LogisticRegressionCV(max_iter=1000)\n",
    "lr_clf.fit(x_train,y_train)\n",
    "\n",
    "pred =lr_clf.predict(x_test)\n",
    "\n",
    "\n",
    "# print('Train data 정확도: ',lr_clf.score(x_train,y_train))\n",
    "# print('Test data 정확도: ',accuracy_score(y_test,pred))"
   ]
  },
  {
   "cell_type": "code",
   "execution_count": 24,
   "id": "a0507500",
   "metadata": {
    "ExecuteTime": {
     "end_time": "2021-08-23T07:35:39.947853Z",
     "start_time": "2021-08-23T07:35:39.920184Z"
    }
   },
   "outputs": [
    {
     "ename": "AttributeError",
     "evalue": "'matrix' object has no attribute 'isnan'",
     "output_type": "error",
     "traceback": [
      "\u001b[1;31m---------------------------------------------------------------------------\u001b[0m",
      "\u001b[1;31mAttributeError\u001b[0m                            Traceback (most recent call last)",
      "\u001b[1;32m<ipython-input-24-6f11a33751dd>\u001b[0m in \u001b[0;36m<module>\u001b[1;34m\u001b[0m\n\u001b[1;32m----> 1\u001b[1;33m \u001b[0mx_train\u001b[0m\u001b[1;33m.\u001b[0m\u001b[0mtodense\u001b[0m\u001b[1;33m(\u001b[0m\u001b[1;33m)\u001b[0m\u001b[1;33m.\u001b[0m\u001b[0misnan\u001b[0m\u001b[1;33m(\u001b[0m\u001b[1;33m)\u001b[0m\u001b[1;33m\u001b[0m\u001b[1;33m\u001b[0m\u001b[0m\n\u001b[0m",
      "\u001b[1;31mAttributeError\u001b[0m: 'matrix' object has no attribute 'isnan'"
     ]
    }
   ],
   "source": [
    "x_train.todense().isnan()"
   ]
  },
  {
   "cell_type": "code",
   "execution_count": 66,
   "id": "69d72a7c",
   "metadata": {
    "ExecuteTime": {
     "end_time": "2021-08-22T09:14:50.999217Z",
     "start_time": "2021-08-22T09:14:50.978738Z"
    }
   },
   "outputs": [
    {
     "data": {
      "text/html": [
       "<div>\n",
       "<style scoped>\n",
       "    .dataframe tbody tr th:only-of-type {\n",
       "        vertical-align: middle;\n",
       "    }\n",
       "\n",
       "    .dataframe tbody tr th {\n",
       "        vertical-align: top;\n",
       "    }\n",
       "\n",
       "    .dataframe thead th {\n",
       "        text-align: right;\n",
       "    }\n",
       "</style>\n",
       "<table border=\"1\" class=\"dataframe\">\n",
       "  <thead>\n",
       "    <tr style=\"text-align: right;\">\n",
       "      <th></th>\n",
       "      <th>단어</th>\n",
       "      <th>회귀계수</th>\n",
       "    </tr>\n",
       "  </thead>\n",
       "  <tbody>\n",
       "    <tr>\n",
       "      <th>995</th>\n",
       "      <td>희망</td>\n",
       "      <td>0.676055</td>\n",
       "    </tr>\n",
       "    <tr>\n",
       "      <th>996</th>\n",
       "      <td>희생</td>\n",
       "      <td>-0.454693</td>\n",
       "    </tr>\n",
       "    <tr>\n",
       "      <th>997</th>\n",
       "      <td>흰색</td>\n",
       "      <td>0.847935</td>\n",
       "    </tr>\n",
       "    <tr>\n",
       "      <th>998</th>\n",
       "      <td>히어로</td>\n",
       "      <td>-0.625252</td>\n",
       "    </tr>\n",
       "    <tr>\n",
       "      <th>999</th>\n",
       "      <td>힐링</td>\n",
       "      <td>0.412005</td>\n",
       "    </tr>\n",
       "  </tbody>\n",
       "</table>\n",
       "</div>"
      ],
      "text/plain": [
       "      단어      회귀계수\n",
       "995   희망  0.676055\n",
       "996   희생 -0.454693\n",
       "997   흰색  0.847935\n",
       "998  히어로 -0.625252\n",
       "999   힐링  0.412005"
      ]
     },
     "execution_count": 66,
     "metadata": {},
     "output_type": "execute_result"
    }
   ],
   "source": [
    "st_df = pd.DataFrame({'단어':tfidf.get_feature_names(),\n",
    "                      '회귀계수':lr_clf.coef_.flat})\n",
    "st_df.tail()"
   ]
  },
  {
   "cell_type": "markdown",
   "id": "1b2319d8",
   "metadata": {},
   "source": [
    "## 회귀 계수를 점수화 (-1 ~ 1)로"
   ]
  },
  {
   "cell_type": "code",
   "execution_count": 71,
   "id": "9466c26b",
   "metadata": {
    "ExecuteTime": {
     "end_time": "2021-08-22T09:16:16.471889Z",
     "start_time": "2021-08-22T09:16:16.453331Z"
    }
   },
   "outputs": [
    {
     "data": {
      "text/html": [
       "<div>\n",
       "<style scoped>\n",
       "    .dataframe tbody tr th:only-of-type {\n",
       "        vertical-align: middle;\n",
       "    }\n",
       "\n",
       "    .dataframe tbody tr th {\n",
       "        vertical-align: top;\n",
       "    }\n",
       "\n",
       "    .dataframe thead th {\n",
       "        text-align: right;\n",
       "    }\n",
       "</style>\n",
       "<table border=\"1\" class=\"dataframe\">\n",
       "  <thead>\n",
       "    <tr style=\"text-align: right;\">\n",
       "      <th></th>\n",
       "      <th>단어</th>\n",
       "      <th>회귀계수</th>\n",
       "      <th>points</th>\n",
       "    </tr>\n",
       "  </thead>\n",
       "  <tbody>\n",
       "    <tr>\n",
       "      <th>977</th>\n",
       "      <td>환경오염</td>\n",
       "      <td>-8.457512</td>\n",
       "      <td>-1.000000</td>\n",
       "    </tr>\n",
       "    <tr>\n",
       "      <th>773</th>\n",
       "      <td>지구</td>\n",
       "      <td>-5.106258</td>\n",
       "      <td>-0.603551</td>\n",
       "    </tr>\n",
       "    <tr>\n",
       "      <th>220</th>\n",
       "      <td>리플</td>\n",
       "      <td>-4.510213</td>\n",
       "      <td>-0.533040</td>\n",
       "    </tr>\n",
       "    <tr>\n",
       "      <th>627</th>\n",
       "      <td>의약품</td>\n",
       "      <td>-3.697882</td>\n",
       "      <td>-0.436942</td>\n",
       "    </tr>\n",
       "    <tr>\n",
       "      <th>515</th>\n",
       "      <td>쓰레기</td>\n",
       "      <td>-3.685172</td>\n",
       "      <td>-0.435439</td>\n",
       "    </tr>\n",
       "    <tr>\n",
       "      <th>...</th>\n",
       "      <td>...</td>\n",
       "      <td>...</td>\n",
       "      <td>...</td>\n",
       "    </tr>\n",
       "    <tr>\n",
       "      <th>314</th>\n",
       "      <td>배달</td>\n",
       "      <td>-0.015227</td>\n",
       "      <td>-0.001289</td>\n",
       "    </tr>\n",
       "    <tr>\n",
       "      <th>589</th>\n",
       "      <td>요구</td>\n",
       "      <td>-0.009465</td>\n",
       "      <td>-0.000608</td>\n",
       "    </tr>\n",
       "    <tr>\n",
       "      <th>318</th>\n",
       "      <td>버려진</td>\n",
       "      <td>-0.005601</td>\n",
       "      <td>-0.000151</td>\n",
       "    </tr>\n",
       "    <tr>\n",
       "      <th>124</th>\n",
       "      <td>꼭</td>\n",
       "      <td>-0.004808</td>\n",
       "      <td>-0.000057</td>\n",
       "    </tr>\n",
       "    <tr>\n",
       "      <th>442</th>\n",
       "      <td>세척</td>\n",
       "      <td>-0.004327</td>\n",
       "      <td>0.000000</td>\n",
       "    </tr>\n",
       "  </tbody>\n",
       "</table>\n",
       "<p>470 rows × 3 columns</p>\n",
       "</div>"
      ],
      "text/plain": [
       "       단어      회귀계수    points\n",
       "977  환경오염 -8.457512 -1.000000\n",
       "773    지구 -5.106258 -0.603551\n",
       "220    리플 -4.510213 -0.533040\n",
       "627   의약품 -3.697882 -0.436942\n",
       "515   쓰레기 -3.685172 -0.435439\n",
       "..    ...       ...       ...\n",
       "314    배달 -0.015227 -0.001289\n",
       "589    요구 -0.009465 -0.000608\n",
       "318   버려진 -0.005601 -0.000151\n",
       "124     꼭 -0.004808 -0.000057\n",
       "442    세척 -0.004327  0.000000\n",
       "\n",
       "[470 rows x 3 columns]"
      ]
     },
     "execution_count": 71,
     "metadata": {},
     "output_type": "execute_result"
    }
   ],
   "source": [
    "st_neg = st_df[st_df['회귀계수']<0].sort_values('회귀계수')\n",
    "\n",
    "ma = st_neg['회귀계수'].max()\n",
    "mi = st_neg['회귀계수'].min()\n",
    "\n",
    "st_neg['points']=st_neg['회귀계수'].apply(lambda x : ((x - mi)/(ma - mi) - 1))"
   ]
  },
  {
   "cell_type": "code",
   "execution_count": 78,
   "id": "83c4dadb",
   "metadata": {
    "ExecuteTime": {
     "end_time": "2021-08-22T09:24:58.974580Z",
     "start_time": "2021-08-22T09:24:58.951185Z"
    }
   },
   "outputs": [
    {
     "data": {
      "text/html": [
       "<div>\n",
       "<style scoped>\n",
       "    .dataframe tbody tr th:only-of-type {\n",
       "        vertical-align: middle;\n",
       "    }\n",
       "\n",
       "    .dataframe tbody tr th {\n",
       "        vertical-align: top;\n",
       "    }\n",
       "\n",
       "    .dataframe thead th {\n",
       "        text-align: right;\n",
       "    }\n",
       "</style>\n",
       "<table border=\"1\" class=\"dataframe\">\n",
       "  <thead>\n",
       "    <tr style=\"text-align: right;\">\n",
       "      <th></th>\n",
       "      <th>단어</th>\n",
       "      <th>회귀계수</th>\n",
       "      <th>points</th>\n",
       "    </tr>\n",
       "  </thead>\n",
       "  <tbody>\n",
       "    <tr>\n",
       "      <th>840</th>\n",
       "      <td>친환경</td>\n",
       "      <td>8.320163</td>\n",
       "      <td>1.000000</td>\n",
       "    </tr>\n",
       "    <tr>\n",
       "      <th>521</th>\n",
       "      <td>아웃</td>\n",
       "      <td>4.020127</td>\n",
       "      <td>0.483013</td>\n",
       "    </tr>\n",
       "    <tr>\n",
       "      <th>584</th>\n",
       "      <td>옷</td>\n",
       "      <td>3.538164</td>\n",
       "      <td>0.425068</td>\n",
       "    </tr>\n",
       "    <tr>\n",
       "      <th>337</th>\n",
       "      <td>보전</td>\n",
       "      <td>3.162151</td>\n",
       "      <td>0.379860</td>\n",
       "    </tr>\n",
       "    <tr>\n",
       "      <th>958</th>\n",
       "      <td>형</td>\n",
       "      <td>3.123427</td>\n",
       "      <td>0.375204</td>\n",
       "    </tr>\n",
       "    <tr>\n",
       "      <th>795</th>\n",
       "      <td>차</td>\n",
       "      <td>2.977596</td>\n",
       "      <td>0.357671</td>\n",
       "    </tr>\n",
       "    <tr>\n",
       "      <th>9</th>\n",
       "      <td>가장</td>\n",
       "      <td>2.848457</td>\n",
       "      <td>0.342145</td>\n",
       "    </tr>\n",
       "    <tr>\n",
       "      <th>420</th>\n",
       "      <td>생활</td>\n",
       "      <td>2.628966</td>\n",
       "      <td>0.315756</td>\n",
       "    </tr>\n",
       "    <tr>\n",
       "      <th>871</th>\n",
       "      <td>텀블러</td>\n",
       "      <td>2.612707</td>\n",
       "      <td>0.313801</td>\n",
       "    </tr>\n",
       "    <tr>\n",
       "      <th>163</th>\n",
       "      <td>달</td>\n",
       "      <td>2.572218</td>\n",
       "      <td>0.308933</td>\n",
       "    </tr>\n",
       "    <tr>\n",
       "      <th>55</th>\n",
       "      <td>고기</td>\n",
       "      <td>2.334181</td>\n",
       "      <td>0.280315</td>\n",
       "    </tr>\n",
       "    <tr>\n",
       "      <th>780</th>\n",
       "      <td>지속</td>\n",
       "      <td>2.284678</td>\n",
       "      <td>0.274363</td>\n",
       "    </tr>\n",
       "    <tr>\n",
       "      <th>870</th>\n",
       "      <td>태양광</td>\n",
       "      <td>2.266057</td>\n",
       "      <td>0.272124</td>\n",
       "    </tr>\n",
       "    <tr>\n",
       "      <th>164</th>\n",
       "      <td>닭</td>\n",
       "      <td>2.190763</td>\n",
       "      <td>0.263072</td>\n",
       "    </tr>\n",
       "    <tr>\n",
       "      <th>473</th>\n",
       "      <td>순</td>\n",
       "      <td>2.180890</td>\n",
       "      <td>0.261885</td>\n",
       "    </tr>\n",
       "    <tr>\n",
       "      <th>476</th>\n",
       "      <td>순천만</td>\n",
       "      <td>2.156755</td>\n",
       "      <td>0.258983</td>\n",
       "    </tr>\n",
       "    <tr>\n",
       "      <th>475</th>\n",
       "      <td>순천</td>\n",
       "      <td>2.155422</td>\n",
       "      <td>0.258823</td>\n",
       "    </tr>\n",
       "    <tr>\n",
       "      <th>357</th>\n",
       "      <td>분</td>\n",
       "      <td>2.134980</td>\n",
       "      <td>0.256365</td>\n",
       "    </tr>\n",
       "    <tr>\n",
       "      <th>391</th>\n",
       "      <td>사업</td>\n",
       "      <td>2.120536</td>\n",
       "      <td>0.254628</td>\n",
       "    </tr>\n",
       "    <tr>\n",
       "      <th>694</th>\n",
       "      <td>적극</td>\n",
       "      <td>2.113104</td>\n",
       "      <td>0.253735</td>\n",
       "    </tr>\n",
       "  </tbody>\n",
       "</table>\n",
       "</div>"
      ],
      "text/plain": [
       "      단어      회귀계수    points\n",
       "840  친환경  8.320163  1.000000\n",
       "521   아웃  4.020127  0.483013\n",
       "584    옷  3.538164  0.425068\n",
       "337   보전  3.162151  0.379860\n",
       "958    형  3.123427  0.375204\n",
       "795    차  2.977596  0.357671\n",
       "9     가장  2.848457  0.342145\n",
       "420   생활  2.628966  0.315756\n",
       "871  텀블러  2.612707  0.313801\n",
       "163    달  2.572218  0.308933\n",
       "55    고기  2.334181  0.280315\n",
       "780   지속  2.284678  0.274363\n",
       "870  태양광  2.266057  0.272124\n",
       "164    닭  2.190763  0.263072\n",
       "473    순  2.180890  0.261885\n",
       "476  순천만  2.156755  0.258983\n",
       "475   순천  2.155422  0.258823\n",
       "357    분  2.134980  0.256365\n",
       "391   사업  2.120536  0.254628\n",
       "694   적극  2.113104  0.253735"
      ]
     },
     "execution_count": 78,
     "metadata": {},
     "output_type": "execute_result"
    }
   ],
   "source": [
    "st_pos = st_df[st_df['회귀계수']>0].sort_values('회귀계수',ascending=False)\n",
    "\n",
    "ma = st_pos['회귀계수'].max()\n",
    "mi = st_pos['회귀계수'].min()\n",
    "\n",
    "st_pos['points']=st_pos['회귀계수'].apply(lambda x : ((x - mi)/(ma - mi)))\n",
    "st_pos[:20]"
   ]
  },
  {
   "cell_type": "code",
   "execution_count": 74,
   "id": "ce06b340",
   "metadata": {
    "ExecuteTime": {
     "end_time": "2021-08-22T09:18:02.706015Z",
     "start_time": "2021-08-22T09:18:02.697745Z"
    }
   },
   "outputs": [],
   "source": [
    "st_df = st_pos.append(st_neg)"
   ]
  },
  {
   "cell_type": "code",
   "execution_count": 77,
   "id": "6ff610cd",
   "metadata": {
    "ExecuteTime": {
     "end_time": "2021-08-22T09:19:12.739106Z",
     "start_time": "2021-08-22T09:19:12.699618Z"
    }
   },
   "outputs": [],
   "source": [
    "st_df.to_csv('data/dict.csv',encoding='cp949')"
   ]
  }
 ],
 "metadata": {
  "kernelspec": {
   "display_name": "Python 3",
   "language": "python",
   "name": "python3"
  },
  "language_info": {
   "codemirror_mode": {
    "name": "ipython",
    "version": 3
   },
   "file_extension": ".py",
   "mimetype": "text/x-python",
   "name": "python",
   "nbconvert_exporter": "python",
   "pygments_lexer": "ipython3",
   "version": "3.8.8"
  },
  "varInspector": {
   "cols": {
    "lenName": 16,
    "lenType": 16,
    "lenVar": 40
   },
   "kernels_config": {
    "python": {
     "delete_cmd_postfix": "",
     "delete_cmd_prefix": "del ",
     "library": "var_list.py",
     "varRefreshCmd": "print(var_dic_list())"
    },
    "r": {
     "delete_cmd_postfix": ") ",
     "delete_cmd_prefix": "rm(",
     "library": "var_list.r",
     "varRefreshCmd": "cat(var_dic_list()) "
    }
   },
   "types_to_exclude": [
    "module",
    "function",
    "builtin_function_or_method",
    "instance",
    "_Feature"
   ],
   "window_display": false
  }
 },
 "nbformat": 4,
 "nbformat_minor": 5
}
