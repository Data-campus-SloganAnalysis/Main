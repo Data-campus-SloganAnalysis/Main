{
 "cells": [
  {
   "cell_type": "code",
   "execution_count": 48,
   "id": "9174deca",
   "metadata": {
    "ExecuteTime": {
     "end_time": "2021-08-22T09:07:02.129938Z",
     "start_time": "2021-08-22T09:07:02.110408Z"
    }
   },
   "outputs": [],
   "source": [
    "import pandas as pd\n",
    "import re\n",
    "\n",
    "from konlpy.tag import Okt\n",
    "from sklearn.feature_extraction.text import TfidfVectorizer\n",
    "from sklearn.model_selection import train_test_split\n",
    "\n",
    "from sklearn.linear_model import LogisticRegressionCV\n",
    "\n",
    "from sklearn.metrics import accuracy_score"
   ]
  },
  {
   "cell_type": "code",
   "execution_count": 49,
   "id": "098c1e5b",
   "metadata": {
    "ExecuteTime": {
     "end_time": "2021-08-22T09:07:02.807441Z",
     "start_time": "2021-08-22T09:07:02.675426Z"
    }
   },
   "outputs": [],
   "source": [
    "data = pd.read_excel('./data.xlsx')"
   ]
  },
  {
   "cell_type": "code",
   "execution_count": 50,
   "id": "77f483e7",
   "metadata": {
    "ExecuteTime": {
     "end_time": "2021-08-22T09:07:04.227201Z",
     "start_time": "2021-08-22T09:07:04.215586Z"
    }
   },
   "outputs": [],
   "source": [
    "data1 = data[data['label'] == -1]\n",
    "data2 = data[data['label'] == 1]\n",
    "df = data1.append(data2)"
   ]
  },
  {
   "cell_type": "code",
   "execution_count": 52,
   "id": "d0f5b786",
   "metadata": {
    "ExecuteTime": {
     "end_time": "2021-08-22T09:07:10.108159Z",
     "start_time": "2021-08-22T09:07:10.093093Z"
    }
   },
   "outputs": [
    {
     "data": {
      "text/html": [
       "<div>\n",
       "<style scoped>\n",
       "    .dataframe tbody tr th:only-of-type {\n",
       "        vertical-align: middle;\n",
       "    }\n",
       "\n",
       "    .dataframe tbody tr th {\n",
       "        vertical-align: top;\n",
       "    }\n",
       "\n",
       "    .dataframe thead th {\n",
       "        text-align: right;\n",
       "    }\n",
       "</style>\n",
       "<table border=\"1\" class=\"dataframe\">\n",
       "  <thead>\n",
       "    <tr style=\"text-align: right;\">\n",
       "      <th></th>\n",
       "      <th>내용</th>\n",
       "      <th>label</th>\n",
       "    </tr>\n",
       "  </thead>\n",
       "  <tbody>\n",
       "    <tr>\n",
       "      <th>0</th>\n",
       "      <td>.년 .월 당시 한국환경기술개발원이 낸 .휴.폐광된 금속광산 지역의 오염 관리대책...</td>\n",
       "      <td>-1</td>\n",
       "    </tr>\n",
       "    <tr>\n",
       "      <th>1</th>\n",
       "      <td>광산 지역에서 . 떨어진 곳에서도 비소가 .배. 높았다</td>\n",
       "      <td>-1</td>\n",
       "    </tr>\n",
       "    <tr>\n",
       "      <th>2</th>\n",
       "      <td>안내판에 .영풍.이란 이름에 주목한 건 이 기업의 석포제련소 환경오염 문제 때문이다</td>\n",
       "      <td>-1</td>\n",
       "    </tr>\n",
       "    <tr>\n",
       "      <th>4</th>\n",
       "      <td>.년에야 일대 환경오염 문제가 알려졌다</td>\n",
       "      <td>-1</td>\n",
       "    </tr>\n",
       "    <tr>\n",
       "      <th>30</th>\n",
       "      <td>수몰 예정지 주민들이 .년 동안 반대 운동을 벌이며 영양댐 건설을 막아냈다</td>\n",
       "      <td>-1</td>\n",
       "    </tr>\n",
       "    <tr>\n",
       "      <th>...</th>\n",
       "      <td>...</td>\n",
       "      <td>...</td>\n",
       "    </tr>\n",
       "    <tr>\n",
       "      <th>1653</th>\n",
       "      <td>그냥 평범한 논리 회로임1전기차 시장 수요 및 공급 증가2전기 수요 증가3친환경 전...</td>\n",
       "      <td>1</td>\n",
       "    </tr>\n",
       "    <tr>\n",
       "      <th>1655</th>\n",
       "      <td>경동나비엔도 보니까 저녹스보일러 설치 지원비받아서 매출에 영향좀 있었던듯 친환경 설...</td>\n",
       "      <td>1</td>\n",
       "    </tr>\n",
       "    <tr>\n",
       "      <th>1658</th>\n",
       "      <td>친환경 음식물 처리기 ㅇㅇ</td>\n",
       "      <td>1</td>\n",
       "    </tr>\n",
       "    <tr>\n",
       "      <th>1659</th>\n",
       "      <td>에휴 바이든이 친환경 한다고 하고테슬라 전기차가 저렇게 올라온거 보면죽어도 정유주에...</td>\n",
       "      <td>1</td>\n",
       "    </tr>\n",
       "    <tr>\n",
       "      <th>1662</th>\n",
       "      <td>중청바지 손새탁 했는데 뒤에 친환경 재크론 패치 무늬 지워짐ㅅㅂ 써있는대로 뒤집어서...</td>\n",
       "      <td>1</td>\n",
       "    </tr>\n",
       "  </tbody>\n",
       "</table>\n",
       "<p>635 rows × 2 columns</p>\n",
       "</div>"
      ],
      "text/plain": [
       "                                                     내용  label\n",
       "0      .년 .월 당시 한국환경기술개발원이 낸 .휴.폐광된 금속광산 지역의 오염 관리대책...     -1\n",
       "1                        광산 지역에서 . 떨어진 곳에서도 비소가 .배. 높았다     -1\n",
       "2        안내판에 .영풍.이란 이름에 주목한 건 이 기업의 석포제련소 환경오염 문제 때문이다     -1\n",
       "4                                 .년에야 일대 환경오염 문제가 알려졌다     -1\n",
       "30            수몰 예정지 주민들이 .년 동안 반대 운동을 벌이며 영양댐 건설을 막아냈다     -1\n",
       "...                                                 ...    ...\n",
       "1653  그냥 평범한 논리 회로임1전기차 시장 수요 및 공급 증가2전기 수요 증가3친환경 전...      1\n",
       "1655  경동나비엔도 보니까 저녹스보일러 설치 지원비받아서 매출에 영향좀 있었던듯 친환경 설...      1\n",
       "1658                                     친환경 음식물 처리기 ㅇㅇ      1\n",
       "1659  에휴 바이든이 친환경 한다고 하고테슬라 전기차가 저렇게 올라온거 보면죽어도 정유주에...      1\n",
       "1662  중청바지 손새탁 했는데 뒤에 친환경 재크론 패치 무늬 지워짐ㅅㅂ 써있는대로 뒤집어서...      1\n",
       "\n",
       "[635 rows x 2 columns]"
      ]
     },
     "execution_count": 52,
     "metadata": {},
     "output_type": "execute_result"
    }
   ],
   "source": [
    "df"
   ]
  },
  {
   "cell_type": "code",
   "execution_count": 53,
   "id": "d1a48937",
   "metadata": {
    "ExecuteTime": {
     "end_time": "2021-08-22T09:07:14.254296Z",
     "start_time": "2021-08-22T09:07:14.235835Z"
    }
   },
   "outputs": [],
   "source": [
    "file_path = './data/stopwords.txt'\n",
    "with open(file_path,'r') as op:\n",
    "    stopwords = op.readlines()\n",
    "    stopwords = stopwords[0].split(',')"
   ]
  },
  {
   "cell_type": "code",
   "execution_count": 54,
   "id": "9089f248",
   "metadata": {
    "ExecuteTime": {
     "end_time": "2021-08-22T09:07:14.693990Z",
     "start_time": "2021-08-22T09:07:14.678269Z"
    }
   },
   "outputs": [],
   "source": [
    "okt = Okt()\n",
    "def tokenizer(text):\n",
    "    re.sub('[\\W]',' ',text)\n",
    "    result = []\n",
    "    token_pos = okt.pos(text)\n",
    "    for word, pos in token_pos:\n",
    "        if (pos == 'Noun') and not(word in stopwords):\n",
    "            result.append(word)\n",
    "    return result"
   ]
  },
  {
   "cell_type": "code",
   "execution_count": 56,
   "id": "5317554e",
   "metadata": {
    "ExecuteTime": {
     "end_time": "2021-08-22T09:07:19.320656Z",
     "start_time": "2021-08-22T09:07:15.424309Z"
    }
   },
   "outputs": [],
   "source": [
    "x = df['내용']\n",
    "y = df['label']\n",
    "\n",
    "tfidf = TfidfVectorizer(max_features=1000,tokenizer=tokenizer)\n",
    "x_tdm = tfidf.fit_transform(x)"
   ]
  },
  {
   "cell_type": "code",
   "execution_count": 58,
   "id": "b9f37da9",
   "metadata": {
    "ExecuteTime": {
     "end_time": "2021-08-22T09:07:19.785040Z",
     "start_time": "2021-08-22T09:07:19.461321Z"
    }
   },
   "outputs": [
    {
     "name": "stdout",
     "output_type": "stream",
     "text": [
      "0.9977477477477478\n",
      "0.8324607329842932\n"
     ]
    }
   ],
   "source": [
    "x_train, x_test, y_train, y_test = train_test_split(x_tdm,y,\n",
    "                                                   test_size=0.3,\n",
    "                                                   random_state=42)\n",
    "\n",
    "lr_clf = LogisticRegressionCV(max_iter=1000)\n",
    "lr_clf.fit(x_train,y_train)\n",
    "print(lr_clf.score(x_train,y_train))\n",
    "\n",
    "pred =lr_clf.predict(x_test)\n",
    "print(accuracy_score(y_test,pred))"
   ]
  },
  {
   "cell_type": "code",
   "execution_count": 59,
   "id": "2d35a1a6",
   "metadata": {
    "ExecuteTime": {
     "end_time": "2021-08-22T09:07:19.862482Z",
     "start_time": "2021-08-22T09:07:19.848324Z"
    }
   },
   "outputs": [
    {
     "name": "stdout",
     "output_type": "stream",
     "text": [
      "(1, 1000)\n"
     ]
    }
   ],
   "source": [
    "len(tfidf.get_feature_names())\n",
    "print(lr_clf.coef_.shape)"
   ]
  },
  {
   "cell_type": "code",
   "execution_count": 66,
   "id": "69d72a7c",
   "metadata": {
    "ExecuteTime": {
     "end_time": "2021-08-22T09:14:50.999217Z",
     "start_time": "2021-08-22T09:14:50.978738Z"
    }
   },
   "outputs": [
    {
     "data": {
      "text/html": [
       "<div>\n",
       "<style scoped>\n",
       "    .dataframe tbody tr th:only-of-type {\n",
       "        vertical-align: middle;\n",
       "    }\n",
       "\n",
       "    .dataframe tbody tr th {\n",
       "        vertical-align: top;\n",
       "    }\n",
       "\n",
       "    .dataframe thead th {\n",
       "        text-align: right;\n",
       "    }\n",
       "</style>\n",
       "<table border=\"1\" class=\"dataframe\">\n",
       "  <thead>\n",
       "    <tr style=\"text-align: right;\">\n",
       "      <th></th>\n",
       "      <th>단어</th>\n",
       "      <th>회귀계수</th>\n",
       "    </tr>\n",
       "  </thead>\n",
       "  <tbody>\n",
       "    <tr>\n",
       "      <th>995</th>\n",
       "      <td>희망</td>\n",
       "      <td>0.676055</td>\n",
       "    </tr>\n",
       "    <tr>\n",
       "      <th>996</th>\n",
       "      <td>희생</td>\n",
       "      <td>-0.454693</td>\n",
       "    </tr>\n",
       "    <tr>\n",
       "      <th>997</th>\n",
       "      <td>흰색</td>\n",
       "      <td>0.847935</td>\n",
       "    </tr>\n",
       "    <tr>\n",
       "      <th>998</th>\n",
       "      <td>히어로</td>\n",
       "      <td>-0.625252</td>\n",
       "    </tr>\n",
       "    <tr>\n",
       "      <th>999</th>\n",
       "      <td>힐링</td>\n",
       "      <td>0.412005</td>\n",
       "    </tr>\n",
       "  </tbody>\n",
       "</table>\n",
       "</div>"
      ],
      "text/plain": [
       "      단어      회귀계수\n",
       "995   희망  0.676055\n",
       "996   희생 -0.454693\n",
       "997   흰색  0.847935\n",
       "998  히어로 -0.625252\n",
       "999   힐링  0.412005"
      ]
     },
     "execution_count": 66,
     "metadata": {},
     "output_type": "execute_result"
    }
   ],
   "source": [
    "st_df = pd.DataFrame({'단어':tfidf.get_feature_names(),\n",
    "                      '회귀계수':lr_clf.coef_.flat})\n",
    "st_df.tail()"
   ]
  },
  {
   "cell_type": "code",
   "execution_count": 61,
   "id": "73a7a0a1",
   "metadata": {
    "ExecuteTime": {
     "end_time": "2021-08-22T09:07:23.660175Z",
     "start_time": "2021-08-22T09:07:23.651736Z"
    }
   },
   "outputs": [
    {
     "data": {
      "text/plain": [
       "8.32016342498613"
      ]
     },
     "execution_count": 61,
     "metadata": {},
     "output_type": "execute_result"
    }
   ],
   "source": [
    "(st_df['회귀계수'].max())"
   ]
  },
  {
   "cell_type": "code",
   "execution_count": 62,
   "id": "801adf08",
   "metadata": {
    "ExecuteTime": {
     "end_time": "2021-08-22T09:07:24.442886Z",
     "start_time": "2021-08-22T09:07:24.436185Z"
    }
   },
   "outputs": [],
   "source": [
    "ma = st_df['회귀계수'].max()\n",
    "mi = st_df['회귀계수'].min()\n",
    "\n",
    "st_df['points']=st_df['회귀계수'].apply(lambda x : ((x - mi)/(ma - mi) * 2) - 1)"
   ]
  },
  {
   "cell_type": "code",
   "execution_count": 63,
   "id": "67ae93cd",
   "metadata": {
    "ExecuteTime": {
     "end_time": "2021-08-22T09:07:24.877319Z",
     "start_time": "2021-08-22T09:07:24.854362Z"
    }
   },
   "outputs": [],
   "source": [
    "st_df.to_csv('data/dict.csv',encoding='cp949')"
   ]
  },
  {
   "cell_type": "code",
   "execution_count": 71,
   "id": "9466c26b",
   "metadata": {
    "ExecuteTime": {
     "end_time": "2021-08-22T09:16:16.471889Z",
     "start_time": "2021-08-22T09:16:16.453331Z"
    }
   },
   "outputs": [
    {
     "data": {
      "text/html": [
       "<div>\n",
       "<style scoped>\n",
       "    .dataframe tbody tr th:only-of-type {\n",
       "        vertical-align: middle;\n",
       "    }\n",
       "\n",
       "    .dataframe tbody tr th {\n",
       "        vertical-align: top;\n",
       "    }\n",
       "\n",
       "    .dataframe thead th {\n",
       "        text-align: right;\n",
       "    }\n",
       "</style>\n",
       "<table border=\"1\" class=\"dataframe\">\n",
       "  <thead>\n",
       "    <tr style=\"text-align: right;\">\n",
       "      <th></th>\n",
       "      <th>단어</th>\n",
       "      <th>회귀계수</th>\n",
       "      <th>points</th>\n",
       "    </tr>\n",
       "  </thead>\n",
       "  <tbody>\n",
       "    <tr>\n",
       "      <th>977</th>\n",
       "      <td>환경오염</td>\n",
       "      <td>-8.457512</td>\n",
       "      <td>-1.000000</td>\n",
       "    </tr>\n",
       "    <tr>\n",
       "      <th>773</th>\n",
       "      <td>지구</td>\n",
       "      <td>-5.106258</td>\n",
       "      <td>-0.603551</td>\n",
       "    </tr>\n",
       "    <tr>\n",
       "      <th>220</th>\n",
       "      <td>리플</td>\n",
       "      <td>-4.510213</td>\n",
       "      <td>-0.533040</td>\n",
       "    </tr>\n",
       "    <tr>\n",
       "      <th>627</th>\n",
       "      <td>의약품</td>\n",
       "      <td>-3.697882</td>\n",
       "      <td>-0.436942</td>\n",
       "    </tr>\n",
       "    <tr>\n",
       "      <th>515</th>\n",
       "      <td>쓰레기</td>\n",
       "      <td>-3.685172</td>\n",
       "      <td>-0.435439</td>\n",
       "    </tr>\n",
       "    <tr>\n",
       "      <th>...</th>\n",
       "      <td>...</td>\n",
       "      <td>...</td>\n",
       "      <td>...</td>\n",
       "    </tr>\n",
       "    <tr>\n",
       "      <th>314</th>\n",
       "      <td>배달</td>\n",
       "      <td>-0.015227</td>\n",
       "      <td>-0.001289</td>\n",
       "    </tr>\n",
       "    <tr>\n",
       "      <th>589</th>\n",
       "      <td>요구</td>\n",
       "      <td>-0.009465</td>\n",
       "      <td>-0.000608</td>\n",
       "    </tr>\n",
       "    <tr>\n",
       "      <th>318</th>\n",
       "      <td>버려진</td>\n",
       "      <td>-0.005601</td>\n",
       "      <td>-0.000151</td>\n",
       "    </tr>\n",
       "    <tr>\n",
       "      <th>124</th>\n",
       "      <td>꼭</td>\n",
       "      <td>-0.004808</td>\n",
       "      <td>-0.000057</td>\n",
       "    </tr>\n",
       "    <tr>\n",
       "      <th>442</th>\n",
       "      <td>세척</td>\n",
       "      <td>-0.004327</td>\n",
       "      <td>0.000000</td>\n",
       "    </tr>\n",
       "  </tbody>\n",
       "</table>\n",
       "<p>470 rows × 3 columns</p>\n",
       "</div>"
      ],
      "text/plain": [
       "       단어      회귀계수    points\n",
       "977  환경오염 -8.457512 -1.000000\n",
       "773    지구 -5.106258 -0.603551\n",
       "220    리플 -4.510213 -0.533040\n",
       "627   의약품 -3.697882 -0.436942\n",
       "515   쓰레기 -3.685172 -0.435439\n",
       "..    ...       ...       ...\n",
       "314    배달 -0.015227 -0.001289\n",
       "589    요구 -0.009465 -0.000608\n",
       "318   버려진 -0.005601 -0.000151\n",
       "124     꼭 -0.004808 -0.000057\n",
       "442    세척 -0.004327  0.000000\n",
       "\n",
       "[470 rows x 3 columns]"
      ]
     },
     "execution_count": 71,
     "metadata": {},
     "output_type": "execute_result"
    }
   ],
   "source": [
    "st_neg = st_df[st_df['회귀계수']<0].sort_values('회귀계수')\n",
    "\n",
    "ma = st_neg['회귀계수'].max()\n",
    "mi = st_neg['회귀계수'].min()\n",
    "\n",
    "st_neg['points']=st_neg['회귀계수'].apply(lambda x : ((x - mi)/(ma - mi) - 1))"
   ]
  },
  {
   "cell_type": "code",
   "execution_count": 78,
   "id": "83c4dadb",
   "metadata": {
    "ExecuteTime": {
     "end_time": "2021-08-22T09:24:58.974580Z",
     "start_time": "2021-08-22T09:24:58.951185Z"
    }
   },
   "outputs": [
    {
     "data": {
      "text/html": [
       "<div>\n",
       "<style scoped>\n",
       "    .dataframe tbody tr th:only-of-type {\n",
       "        vertical-align: middle;\n",
       "    }\n",
       "\n",
       "    .dataframe tbody tr th {\n",
       "        vertical-align: top;\n",
       "    }\n",
       "\n",
       "    .dataframe thead th {\n",
       "        text-align: right;\n",
       "    }\n",
       "</style>\n",
       "<table border=\"1\" class=\"dataframe\">\n",
       "  <thead>\n",
       "    <tr style=\"text-align: right;\">\n",
       "      <th></th>\n",
       "      <th>단어</th>\n",
       "      <th>회귀계수</th>\n",
       "      <th>points</th>\n",
       "    </tr>\n",
       "  </thead>\n",
       "  <tbody>\n",
       "    <tr>\n",
       "      <th>840</th>\n",
       "      <td>친환경</td>\n",
       "      <td>8.320163</td>\n",
       "      <td>1.000000</td>\n",
       "    </tr>\n",
       "    <tr>\n",
       "      <th>521</th>\n",
       "      <td>아웃</td>\n",
       "      <td>4.020127</td>\n",
       "      <td>0.483013</td>\n",
       "    </tr>\n",
       "    <tr>\n",
       "      <th>584</th>\n",
       "      <td>옷</td>\n",
       "      <td>3.538164</td>\n",
       "      <td>0.425068</td>\n",
       "    </tr>\n",
       "    <tr>\n",
       "      <th>337</th>\n",
       "      <td>보전</td>\n",
       "      <td>3.162151</td>\n",
       "      <td>0.379860</td>\n",
       "    </tr>\n",
       "    <tr>\n",
       "      <th>958</th>\n",
       "      <td>형</td>\n",
       "      <td>3.123427</td>\n",
       "      <td>0.375204</td>\n",
       "    </tr>\n",
       "    <tr>\n",
       "      <th>795</th>\n",
       "      <td>차</td>\n",
       "      <td>2.977596</td>\n",
       "      <td>0.357671</td>\n",
       "    </tr>\n",
       "    <tr>\n",
       "      <th>9</th>\n",
       "      <td>가장</td>\n",
       "      <td>2.848457</td>\n",
       "      <td>0.342145</td>\n",
       "    </tr>\n",
       "    <tr>\n",
       "      <th>420</th>\n",
       "      <td>생활</td>\n",
       "      <td>2.628966</td>\n",
       "      <td>0.315756</td>\n",
       "    </tr>\n",
       "    <tr>\n",
       "      <th>871</th>\n",
       "      <td>텀블러</td>\n",
       "      <td>2.612707</td>\n",
       "      <td>0.313801</td>\n",
       "    </tr>\n",
       "    <tr>\n",
       "      <th>163</th>\n",
       "      <td>달</td>\n",
       "      <td>2.572218</td>\n",
       "      <td>0.308933</td>\n",
       "    </tr>\n",
       "    <tr>\n",
       "      <th>55</th>\n",
       "      <td>고기</td>\n",
       "      <td>2.334181</td>\n",
       "      <td>0.280315</td>\n",
       "    </tr>\n",
       "    <tr>\n",
       "      <th>780</th>\n",
       "      <td>지속</td>\n",
       "      <td>2.284678</td>\n",
       "      <td>0.274363</td>\n",
       "    </tr>\n",
       "    <tr>\n",
       "      <th>870</th>\n",
       "      <td>태양광</td>\n",
       "      <td>2.266057</td>\n",
       "      <td>0.272124</td>\n",
       "    </tr>\n",
       "    <tr>\n",
       "      <th>164</th>\n",
       "      <td>닭</td>\n",
       "      <td>2.190763</td>\n",
       "      <td>0.263072</td>\n",
       "    </tr>\n",
       "    <tr>\n",
       "      <th>473</th>\n",
       "      <td>순</td>\n",
       "      <td>2.180890</td>\n",
       "      <td>0.261885</td>\n",
       "    </tr>\n",
       "    <tr>\n",
       "      <th>476</th>\n",
       "      <td>순천만</td>\n",
       "      <td>2.156755</td>\n",
       "      <td>0.258983</td>\n",
       "    </tr>\n",
       "    <tr>\n",
       "      <th>475</th>\n",
       "      <td>순천</td>\n",
       "      <td>2.155422</td>\n",
       "      <td>0.258823</td>\n",
       "    </tr>\n",
       "    <tr>\n",
       "      <th>357</th>\n",
       "      <td>분</td>\n",
       "      <td>2.134980</td>\n",
       "      <td>0.256365</td>\n",
       "    </tr>\n",
       "    <tr>\n",
       "      <th>391</th>\n",
       "      <td>사업</td>\n",
       "      <td>2.120536</td>\n",
       "      <td>0.254628</td>\n",
       "    </tr>\n",
       "    <tr>\n",
       "      <th>694</th>\n",
       "      <td>적극</td>\n",
       "      <td>2.113104</td>\n",
       "      <td>0.253735</td>\n",
       "    </tr>\n",
       "  </tbody>\n",
       "</table>\n",
       "</div>"
      ],
      "text/plain": [
       "      단어      회귀계수    points\n",
       "840  친환경  8.320163  1.000000\n",
       "521   아웃  4.020127  0.483013\n",
       "584    옷  3.538164  0.425068\n",
       "337   보전  3.162151  0.379860\n",
       "958    형  3.123427  0.375204\n",
       "795    차  2.977596  0.357671\n",
       "9     가장  2.848457  0.342145\n",
       "420   생활  2.628966  0.315756\n",
       "871  텀블러  2.612707  0.313801\n",
       "163    달  2.572218  0.308933\n",
       "55    고기  2.334181  0.280315\n",
       "780   지속  2.284678  0.274363\n",
       "870  태양광  2.266057  0.272124\n",
       "164    닭  2.190763  0.263072\n",
       "473    순  2.180890  0.261885\n",
       "476  순천만  2.156755  0.258983\n",
       "475   순천  2.155422  0.258823\n",
       "357    분  2.134980  0.256365\n",
       "391   사업  2.120536  0.254628\n",
       "694   적극  2.113104  0.253735"
      ]
     },
     "execution_count": 78,
     "metadata": {},
     "output_type": "execute_result"
    }
   ],
   "source": [
    "st_pos = st_df[st_df['회귀계수']>0].sort_values('회귀계수',ascending=False)\n",
    "\n",
    "ma = st_pos['회귀계수'].max()\n",
    "mi = st_pos['회귀계수'].min()\n",
    "\n",
    "st_pos['points']=st_pos['회귀계수'].apply(lambda x : ((x - mi)/(ma - mi)))\n",
    "st_pos[:20]"
   ]
  },
  {
   "cell_type": "code",
   "execution_count": 74,
   "id": "ce06b340",
   "metadata": {
    "ExecuteTime": {
     "end_time": "2021-08-22T09:18:02.706015Z",
     "start_time": "2021-08-22T09:18:02.697745Z"
    }
   },
   "outputs": [],
   "source": [
    "st_df = st_pos.append(st_neg)"
   ]
  },
  {
   "cell_type": "code",
   "execution_count": 77,
   "id": "6ff610cd",
   "metadata": {
    "ExecuteTime": {
     "end_time": "2021-08-22T09:19:12.739106Z",
     "start_time": "2021-08-22T09:19:12.699618Z"
    }
   },
   "outputs": [],
   "source": [
    "st_df.to_csv('data/dict.csv',encoding='cp949')"
   ]
  }
 ],
 "metadata": {
  "kernelspec": {
   "display_name": "Python 3",
   "language": "python",
   "name": "python3"
  },
  "language_info": {
   "codemirror_mode": {
    "name": "ipython",
    "version": 3
   },
   "file_extension": ".py",
   "mimetype": "text/x-python",
   "name": "python",
   "nbconvert_exporter": "python",
   "pygments_lexer": "ipython3",
   "version": "3.8.8"
  },
  "varInspector": {
   "cols": {
    "lenName": 16,
    "lenType": 16,
    "lenVar": 40
   },
   "kernels_config": {
    "python": {
     "delete_cmd_postfix": "",
     "delete_cmd_prefix": "del ",
     "library": "var_list.py",
     "varRefreshCmd": "print(var_dic_list())"
    },
    "r": {
     "delete_cmd_postfix": ") ",
     "delete_cmd_prefix": "rm(",
     "library": "var_list.r",
     "varRefreshCmd": "cat(var_dic_list()) "
    }
   },
   "types_to_exclude": [
    "module",
    "function",
    "builtin_function_or_method",
    "instance",
    "_Feature"
   ],
   "window_display": false
  }
 },
 "nbformat": 4,
 "nbformat_minor": 5
}
